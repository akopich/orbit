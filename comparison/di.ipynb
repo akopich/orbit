{
 "cells": [
  {
   "cell_type": "code",
   "execution_count": 1,
   "metadata": {},
   "outputs": [],
   "source": [
    "import pandas as pd\n",
    "import numpy as np\n",
    "import scipy.stats\n",
    "import scipy\n",
    "from scipy.stats import ttest_ind\n",
    "\n"
   ]
  },
  {
   "cell_type": "code",
   "execution_count": 2,
   "metadata": {},
   "outputs": [],
   "source": [
    "def filter_init(data):\n",
    "  frametrack = 'player::draw()'\n",
    "  frametrack_data = data[data[:, 0] == frametrack, :]\n",
    "  last_init = np.argmax(frametrack_data[:,4])\n",
    "  init_end_time = frametrack_data[last_init, 3]\n",
    "  return data[data[:, 2] > init_end_time, :]"
   ]
  },
  {
   "cell_type": "code",
   "execution_count": 3,
   "metadata": {},
   "outputs": [],
   "source": [
    "def load_di(path):\n",
    "  data = pd.read_csv(path).to_numpy() \n",
    "  data = filter_init(data)\n",
    "  starts = data[:, 2]\n",
    "  data = data[starts.argsort()]\n",
    "  name2durations = {}\n",
    "  for row in data:\n",
    "    name = row[0]\n",
    "    duration = row[4]\n",
    "    if name not in name2durations:\n",
    "      name2durations[name] = [duration]\n",
    "    else: \n",
    "      name2durations[name] += [duration]\n",
    "  return name2durations"
   ]
  },
  {
   "cell_type": "code",
   "execution_count": 4,
   "metadata": {},
   "outputs": [],
   "source": [
    " di1 = load_di('~/ggpcum/4k1.csv')"
   ]
  },
  {
   "cell_type": "code",
   "execution_count": 5,
   "metadata": {},
   "outputs": [],
   "source": [
    " di2 = load_di('~/ggpcum/4k2.csv')"
   ]
  },
  {
   "cell_type": "code",
   "execution_count": 6,
   "metadata": {},
   "outputs": [],
   "source": [
    " difhd = load_di('~/ggpcum/fhd1.csv')"
   ]
  },
  {
   "cell_type": "code",
   "execution_count": 7,
   "metadata": {},
   "outputs": [],
   "source": [
    "def test(d1, d2, sigma0):\n",
    "  n1 = d1.shape[0]\n",
    "  n2 = d2.shape[0]\n",
    "  if (min(n1, n2) < 50):\n",
    "    return 1.0;\n",
    "  \n",
    "  v1 = d1.var() / n1\n",
    "  v2 = d2.var() / n2\n",
    "  stat = (d1.mean() - d2.mean()) / np.sqrt(v1 + v2 + sigma0*sigma0)\n",
    "  p = scipy.stats.norm().cdf(stat)\n",
    "  if (np.isnan(p)): \n",
    "    return 1.0\n",
    "  return min(p, 1-p) \n"
   ]
  },
  {
   "cell_type": "code",
   "execution_count": 8,
   "metadata": {},
   "outputs": [],
   "source": [
    "\n",
    "def get_pvalues(di1, di2, sigma0):\n",
    "  pvalues = []\n",
    "  for name in di1.keys():\n",
    "    durations1 = np.array(di1[name])\n",
    "    durations2 = np.array(di2[name])\n",
    "    pvalue = test(durations1, durations2, sigma0)\n",
    "    pvalues += [pvalue]\n",
    "  return np.array(pvalues), np.array(list(di1.keys()))\n",
    "  "
   ]
  },
  {
   "cell_type": "code",
   "execution_count": 12,
   "metadata": {},
   "outputs": [],
   "source": [
    "pvalues, name = get_pvalues(di1, difhd, 300)"
   ]
  },
  {
   "cell_type": "code",
   "execution_count": 13,
   "metadata": {},
   "outputs": [
    {
     "data": {
      "text/plain": [
       "(array(['player::draw()',\n",
       "        'player::vulkan_specific::acquire_next_framebuffer()'],\n",
       "       dtype='<U51'),\n",
       " array([0., 0.]))"
      ]
     },
     "execution_count": 13,
     "metadata": {},
     "output_type": "execute_result"
    }
   ],
   "source": [
    "name[pvalues < 0.05], pvalues[pvalues < 0.05]"
   ]
  },
  {
   "cell_type": "code",
   "execution_count": null,
   "metadata": {},
   "outputs": [],
   "source": []
  }
 ],
 "metadata": {
  "interpreter": {
   "hash": "916dbcbb3f70747c44a77c7bcd40155683ae19c65e1c03b4aa3499c5328201f1"
  },
  "kernelspec": {
   "display_name": "Python 3.9.10 64-bit",
   "language": "python",
   "name": "python3"
  },
  "language_info": {
   "codemirror_mode": {
    "name": "ipython",
    "version": 3
   },
   "file_extension": ".py",
   "mimetype": "text/x-python",
   "name": "python",
   "nbconvert_exporter": "python",
   "pygments_lexer": "ipython3",
   "version": "3.9.10"
  },
  "orig_nbformat": 4
 },
 "nbformat": 4,
 "nbformat_minor": 2
}
