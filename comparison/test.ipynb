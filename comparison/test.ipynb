{
 "cells": [
  {
   "cell_type": "code",
   "execution_count": 1,
   "metadata": {},
   "outputs": [],
   "source": [
    "import pandas as pd\n",
    "import numpy as np\n",
    "from collections import defaultdict\n",
    "import scipy\n",
    "import scipy.stats\n",
    "from statsmodels.stats.multitest import multipletests\n",
    "\n",
    "\n",
    "def filter_functions(callstacks, names):\n",
    "  result = [[function for function in callstack if function in names] for callstack in callstacks]\n",
    "  return [callstack for callstack in result if len(callstack) > 1]\n",
    "\n",
    "class Capture:\n",
    "  # is used to throw out the initialization period when the benchmark has not been started yet, but the \n",
    "  # timetime is excessively long\n",
    "  def __init__(self, callstack_csv, frame_mean, frame_ends, init_end_time): \n",
    "    self.frame_mean = frame_mean\n",
    "    self.frame_ends = frame_ends\n",
    "    self.callstack_csv = callstack_csv\n",
    "    \n",
    "    self.callstack_csv = self.callstack_csv[self.callstack_csv[:,1] > init_end_time,:]\n",
    "    \n",
    "    self.callstack_csv = self.callstack_csv[self.callstack_csv[:, 1].argsort()] # sort by timestamp\n",
    "    self.frame_index_to_callstacks = self.get_frame_index_to_callstacks()\n",
    "    self.total_callstacks = sum(len(s) for s in self.frame_index_to_callstacks.values())\n",
    "\n",
    "  def filter_functions(self, names):\n",
    "    filterred = {}\n",
    "    for frame_index, callstacks in self.frame_index_to_callstacks.items():\n",
    "      filterred[frame_index] = filter_functions(callstacks, names)\n",
    "    self.frame_index_to_callstacks = filterred\n",
    "\n",
    "  # returns a dict frame_index -> List[Callstack]\n",
    "  def get_frame_index_to_callstacks(self): \n",
    "    frame_index_to_callstacks = {}\n",
    "    frame_index = 0\n",
    "    frame_end = self.frame_ends[frame_index]\n",
    "    frame_index_to_callstacks[frame_index] = []\n",
    "    callstack_names = [s.split('/') for s in  self.callstack_csv[:, 2]]\n",
    "    timestamps = self.callstack_csv[:, 1]\n",
    "    for i in range(self.callstack_csv.shape[0]):\n",
    "      timestamp = timestamps[i]\n",
    "\n",
    "      while timestamp > frame_end:\n",
    "        if frame_index + 1 == self.frame_ends.shape[0]: \n",
    "          return frame_index_to_callstacks\n",
    "        frame_index += 1\n",
    "        frame_end = self.frame_ends[frame_index]\n",
    "        frame_index_to_callstacks[frame_index] = [] \n",
    "      frame_index_to_callstacks[frame_index].append(callstack_names[i])\n",
    "    return frame_index_to_callstacks\n",
    "\n",
    "  def get_exclusive_count(self, function_name):\n",
    "    exclusive_count = 0;\n",
    "    for callstacks in self.frame_index_to_callstacks.values():\n",
    "      for callstack in callstacks:\n",
    "        if (len(callstack) > 0 and callstack[0] == function_name):\n",
    "          exclusive_count += 1\n",
    "    return exclusive_count\n",
    "\n",
    "  def avg_frame_time(self):\n",
    "    return self.frame_mean / 1e6\n",
    "\n",
    "  def total_callstacks(self):\n",
    "    return self.total_callstacks\n",
    "\n",
    "  def get_exclusive_rate(self):\n",
    "    name_to_hits = {}\n",
    "    for callstacks in self.frame_index_to_callstacks.values():\n",
    "      for callstack in callstacks:\n",
    "        head = callstack[0]\n",
    "        name_to_hits.setdefault(head, 0)\n",
    "        name_to_hits[head] += 1\n",
    "    total_callstacks = self.total_callstacks\n",
    "    return defaultdict(lambda : 0, dict([(name, (hits / total_callstacks)) for name, hits in name_to_hits.items()]))\n",
    "\n",
    "  def time_per_frame(self): \n",
    "    mean_frame_time = self.avg_frame_time()\n",
    "    return defaultdict(lambda : 0, dict([(name, (mean_frame_time  * rate)) for name, rate in self.get_exclusive_rate().items()]))\n",
    "\n",
    "  def function_names(self):\n",
    "    result = []\n",
    "    for callstacks in self.frame_index_to_callstacks.values():\n",
    "      for callstack in callstacks:\n",
    "        result += callstack\n",
    "    return list(set(result))\n"
   ]
  },
  {
   "cell_type": "code",
   "execution_count": 2,
   "metadata": {},
   "outputs": [],
   "source": [
    "def load_capture_with_frametrack(callstack_csv_path, frametrack_csv_path, max_frametime):\n",
    "  frametrack_csv = pd.read_csv(frametrack_csv_path).to_numpy()\n",
    "  frametrack_csv = frametrack_csv[frametrack_csv[:, 3].argsort()] # sort by end\n",
    "  frame_durations = frametrack_csv[:, 4]\n",
    "  frame_mean = frame_durations.mean()\n",
    "  frame_ends = frametrack_csv[:, 3]\n",
    "  last_init_frame = np.max((frame_durations > max_frametime).nonzero())\n",
    "  init_end_time = frametrack_csv[last_init_frame, 3]\n",
    "\n",
    "  frame_ends = frame_ends[last_init_frame:]\n",
    "  frame_mean = frame_durations[last_init_frame:].mean()\n",
    "  \n",
    "  return Capture(pd.read_csv(callstack_csv_path).to_numpy(), frame_mean, frame_ends, init_end_time)"
   ]
  },
  {
   "cell_type": "code",
   "execution_count": 3,
   "metadata": {},
   "outputs": [],
   "source": [
    "import json \n",
    "\n",
    "def load_cumbia_capture_with_results_json(callstack_csv_path, results_json_path):\n",
    "  results = json.load(open(results_json_path))\n",
    "  fps = results[\"outputs\"][1]['values']\n",
    "  fps = np.array(fps[1:])\n",
    "  times = np.array(results[\"outputs\"][1]['times'])\n",
    "  times.sort()\n",
    "  frame_mean = np.dot(np.diff(times), 1 / fps)/np.diff(times).sum()  * 1e9\n",
    "  init_end_ns_from_start = times[1] * 1e9\n",
    "  callstack_csv = pd.read_csv(callstack_csv_path).to_numpy()\n",
    "  start_orbit_time = callstack_csv[:, 1].min()\n",
    "  init_end_time = init_end_ns_from_start + start_orbit_time\n",
    "  \n",
    "  frame_ends = np.array([times.max() * 1e9 + start_orbit_time])\n",
    "  return Capture(callstack_csv, frame_mean, frame_ends, init_end_time)\n",
    "  "
   ]
  },
  {
   "cell_type": "code",
   "execution_count": 4,
   "metadata": {},
   "outputs": [],
   "source": [
    "# capture1 -- slow\n",
    "def test(capture1, rates1, capture2, rates2, name):\n",
    "  n1 = capture1.total_callstacks\n",
    "  n2 = capture2.total_callstacks\n",
    "  p1 = rates1[name] \n",
    "  p2 = rates2[name]  \n",
    "  f1 = capture1.avg_frame_time()\n",
    "  f2 = capture2.avg_frame_time()\n",
    "\n",
    "  stat = f1*p1 - f2*p2\n",
    "  stat_var = f1*p1*(f1-f1*p1)/n1 + f2*p2*(f2-f2*p2)/n2\n",
    "  stat = stat / np.sqrt(stat_var)\n",
    "  p = scipy.stats.norm().cdf(stat)\n",
    "  if (np.isnan(p)): \n",
    "    return 1.0\n",
    "  return min(p, 1-p) * 2"
   ]
  },
  {
   "cell_type": "code",
   "execution_count": 5,
   "metadata": {},
   "outputs": [],
   "source": [
    "# capture1 = load_cumbia_capture_with_results_json(\"~/cumbia_vsync_callstack1_thread.csv\", '/usr/local/google/home/avanesov/result_vsync1.json')\n",
    "# capture2 = load_cumbia_capture_with_results_json(\"~/cumbia_vsync_callstack2_thread.csv\", '/usr/local/google/home/avanesov/result_vsync2.json')\n",
    "capture1 = load_capture_with_frametrack(\"~/cumbia_callstack_thread4k1.csv\", \"~/cumbia_frametrack4k1.csv\",  85*1e6)\n",
    "capture2 = load_capture_with_frametrack(\"~/cumbia_callstack_thread4k2.csv\", \"~/cumbia_frametrack4k2.csv\",  85*1e6)\n",
    "\n",
    "names1 = capture1.function_names()\n",
    "names2 = capture2.function_names()\n",
    "names = set(names1).intersection(set(names2))\n",
    "names.remove(\"???\")\n",
    "capture1.filter_functions(names)\n",
    "capture2.filter_functions(names)"
   ]
  },
  {
   "cell_type": "code",
   "execution_count": 6,
   "metadata": {},
   "outputs": [
    {
     "data": {
      "text/plain": [
       "(65741459.12401353, 65700346.80270575)"
      ]
     },
     "execution_count": 6,
     "metadata": {},
     "output_type": "execute_result"
    }
   ],
   "source": [
    "capture1.frame_mean, capture2.frame_mean"
   ]
  },
  {
   "cell_type": "code",
   "execution_count": 7,
   "metadata": {},
   "outputs": [
    {
     "name": "stderr",
     "output_type": "stream",
     "text": [
      "/tmp/ipykernel_3631905/345916273.py:12: RuntimeWarning: invalid value encountered in double_scalars\n",
      "  stat = stat / np.sqrt(stat_var)\n",
      "/usr/local/google/home/avanesov/.local/lib/python3.9/site-packages/statsmodels/stats/multitest.py:177: RuntimeWarning: divide by zero encountered in log1p\n",
      "  np.log1p(-pvals))\n"
     ]
    }
   ],
   "source": [
    "rate1 = capture1.get_exclusive_rate()\n",
    "rate2 = capture2.get_exclusive_rate() \n",
    "pvalues = [(name, test(capture1, rate1, capture2, rate2, name)) for name in names]\n",
    "reject, corrected,_,_ = multipletests([pvalue for name, pvalue in pvalues])\n",
    "\n",
    "namesnp = np.array([name for name, pvalue in pvalues])\n",
    "rejected_names = namesnp[np.array(reject)]\n"
   ]
  },
  {
   "cell_type": "code",
   "execution_count": 8,
   "metadata": {},
   "outputs": [
    {
     "data": {
      "text/plain": [
       "array([], dtype=float64)"
      ]
     },
     "execution_count": 8,
     "metadata": {},
     "output_type": "execute_result"
    }
   ],
   "source": [
    "corrected[corrected < 0.05]"
   ]
  },
  {
   "cell_type": "code",
   "execution_count": 254,
   "metadata": {},
   "outputs": [
    {
     "data": {
      "text/plain": [
       "(0, 1099)"
      ]
     },
     "execution_count": 254,
     "metadata": {},
     "output_type": "execute_result"
    }
   ],
   "source": [
    "len(rejected_names), len(names)"
   ]
  },
  {
   "cell_type": "code",
   "execution_count": 244,
   "metadata": {},
   "outputs": [
    {
     "data": {
      "text/plain": [
       "[('eva::graphics::rendering::cull_to_cascades_and_fill_output(eva::graphics::rendering::view const&, eva::graphics::rendering::tessellation_lod, unsigned char, unsigned char, std::__1::vector<eva::graphics::rendering::spatial_geometry*, std::__1::allocator<eva::graphics::rendering::spatial_geometry*> > const&, std::__1::vector<eva::graphics::rendering::spatial_geometry_draw_key, std::__1::allocator<eva::graphics::rendering::spatial_geometry_draw_key> >&)',\n",
       "  0.002368320354110432),\n",
       " ('yeti::internal::video_ipc::HostMappedSlotBackedFrameSender::AcquireSlot(absl::Time)',\n",
       "  0.001461670786234095),\n",
       " ('absl::Mutex::Unlock()', 0.010245484850678608),\n",
       " ('yeti::internal::vulkan::YuvEngine::SubmitImage(yeti::internal::vulkan::YuvEngine::SubmitImageInfo const&)',\n",
       "  0.00023097156291906686),\n",
       " ('Pal::Gfx9::UniversalCmdBuffer::CmdBindIndexData(unsigned long, unsigned int, Pal::IndexType)',\n",
       "  0.0006274152903174653),\n",
       " ('eva::graphics::parameter_shader_constant_updater<float>::write_value_to(eva::graphics::memory_stream&) const',\n",
       "  0.0021718221587912257),\n",
       " ('eva::graphics::rendering::spatial_geometry::oriented_world_bounds() const',\n",
       "  0.016947107512091535),\n",
       " ('eva::math::sphere<float, 3ul> eva::math::transform<float>(eva::math::sphere<float, 3ul> const&, eva::math::matrix<float, 4ul, 4ul> const&)',\n",
       "  0.025703342882456157),\n",
       " ('dm_gfx::vulkan::vulkan_command_buffer::bind_graphics_pipeline(dm_gfx::native_data_handle<dm_gfx::tag_graphics_pipeline_handle>)',\n",
       "  0.0013168826423146799),\n",
       " ('void vk::CmdBuffer::CmdBindDescriptorSets<1u, false>(VkCommandBuffer_T*, VkPipelineBindPoint, VkPipelineLayout_T*, unsigned int, unsigned int, VkDescriptorSet_T* const*, unsigned int, unsigned int const*)',\n",
       "  0.027278775781769793),\n",
       " ('eva::math::volume_frustum::intersects(eva::math::box<float, 3ul> const&) const',\n",
       "  0.004440169746862062),\n",
       " ('eva::graphics::rendering::item_node::visibility_manager::update(float)',\n",
       "  0.00801505796696762),\n",
       " ('eva::graphics::rendering::rgba_blend_shader_inputs::update(float)',\n",
       "  0.0060879967181354045),\n",
       " ('eva::graphics::rendering::spatial_geometry::world_bounds() const',\n",
       "  0.004205750847183009),\n",
       " ('Pal::Gfx9::Device::Gfx9CreateUntypedBufferViewSrds(Pal::IDevice const*, unsigned int, Pal::BufferViewInfo const*, void*)',\n",
       "  0.00379207043598468),\n",
       " ('void Pal::Gfx9::UniversalCmdBuffer::CmdDrawIndexed<false, false, false>(Pal::ICmdBuffer*, unsigned int, unsigned int, int, unsigned int, unsigned int)',\n",
       "  0.02342810062086535),\n",
       " ('eva::math::oriented_box<float, 3ul> eva::math::transform<float, 3ul>(eva::math::matrix<float, (3ul) + (1), (3ul) + (1)> const&, eva::math::box<float, 3ul> const&)',\n",
       "  0.017391813954129736),\n",
       " ('eva::graphics::rendering::tessellation::set_resource_tables(dm_gfx::command_buffer&) const',\n",
       "  0.0025786078964695823),\n",
       " ('eva::graphics::rendering::update_renderers_task::execute_dispatched()',\n",
       "  9.307809251962397e-05),\n",
       " ('eva::graphics::rendering::material_shader_inputs::set_resource_tables(dm_gfx::command_buffer&) const',\n",
       "  0.004488432461501867),\n",
       " ('eva::math::operator-(eva::math::vector<float, 3ul> const&, eva::math::vector<float, 3ul> const&)',\n",
       "  0.0006894673519972145),\n",
       " ('eva::math::wavelet::inverse_transformation_evaluator<eva::math::wavelet::cubic_traits, float>::at(unsigned long) const',\n",
       "  0.011231423164034625),\n",
       " ('eva::graphics::rendering::select_lod_and_fill_output(eva::graphics::rendering::view const&, std::__1::vector<eva::graphics::rendering::spatial_geometry*, std::__1::allocator<eva::graphics::rendering::spatial_geometry*> > const&, std::__1::vector<eva::graphics::rendering::spatial_geometry_draw_key, std::__1::allocator<eva::graphics::rendering::spatial_geometry_draw_key> >&, unsigned char, eva::graphics::rendering::rendering_shader_type, bool, bool, float)',\n",
       "  0.004274697582382731),\n",
       " ('Umbra::Transformer::frustumShrinkBox(Umbra::ActivePlaneSet const*, float __vector, float __vector, float __vector&, float __vector&) const',\n",
       "  0.0037541497316248332),\n",
       " ('eva::graphics::rendering::spatial_geometry::draw_and_set_up(dm_gfx::command_buffer&, eva::graphics::rendering::rendering_shader_type, eva::graphics::rendering::tessellation_lod, int, int, bool, bool&) const',\n",
       "  0.025696448208936188),\n",
       " ('tanf', 0.0040126999886237885),\n",
       " ('eva::graphics::ia_bindings::draw(dm_gfx::command_buffer&, int, int) const',\n",
       "  0.011310711909514305),\n",
       " ('dm_gfx::vulkan::vulkan_command_buffer::bind_set(dm_gfx::native_data_handle<dm_gfx::tag_binding_set_handle>, dm_gfx::dynamic_buffer_offset const*, unsigned int)',\n",
       "  0.030088355241158445),\n",
       " ('eva::graphics::rendering::tone_map::update_constant_buffers(eva::graphics::constant_stream_source&)',\n",
       "  9.307809251962397e-05),\n",
       " ('unsigned int* Pal::Gfx9::UniversalCmdBuffer::ValidateGraphicsUserDataCeRam<false, false, false, true>(Pal::Gfx9::GraphicsPipelineSignature const*, unsigned int*)',\n",
       "  0.009793883735120433),\n",
       " ('__log2f_finite', 0.004219540194222953),\n",
       " ('eva::graphics::rendering::material_shader_inputs::update_constant_data(eva::graphics::constant_buffer&)',\n",
       "  0.0044160383895421595),\n",
       " ('eva::math::detail::vector_base<float, 3ul, eva::math::vector<float, 3ul> >::vector_base(eva::math::detail::vector_base<float, 3ul, eva::math::vector<float, 3ul> > const&)',\n",
       "  0.006115575412215293),\n",
       " ('eva::graphics::rendering::coordinate_frame_constant_updater::write_value_to(eva::graphics::memory_stream&) const',\n",
       "  0.001937403259112173),\n",
       " ('eva::graphics::rendering::tessellation::update(eva::graphics::rendering::view const&, float)',\n",
       "  0.0030060776547078554),\n",
       " ('eva::math::dominant_axis(eva::math::vector<float, 3ul> const&)',\n",
       "  0.005722579021576881),\n",
       " ('eva::graphics::rendering::material::is_always_invisible() const',\n",
       "  0.003450784096746059),\n",
       " ('eva::math::length(eva::math::vector<float, 3ul> const&)',\n",
       "  0.0090596010052434),\n",
       " ('void Pal::UniversalCmdBuffer::CmdSetUserDataGfx<true>(Pal::ICmdBuffer*, unsigned int, unsigned int, unsigned int const*)',\n",
       "  0.00818053013144695),\n",
       " ('vk::entry::vkCmdBindVertexBuffers(VkCommandBuffer_T*, unsigned int, unsigned int, VkBuffer_T* const*, unsigned long const*)',\n",
       "  0.004360881001382382),\n",
       " ('eva::umbra::visibility_culling_content::collect_visible_tome_shadow_casters(int, int const*, std::__1::vector<eva::graphics::rendering::spatial_geometry*, std::__1::allocator<eva::graphics::rendering::spatial_geometry*> >&) const',\n",
       "  0.0003929963906384123),\n",
       " ('eva::graphics::rendering::basic_geometry::local_bounds() const',\n",
       "  0.002492424477469931),\n",
       " ('eva::graphics::rendering::upload_view_dependent_data_task::execute_dispatched()',\n",
       "  7.58414087196936e-05),\n",
       " ('eva::graphics::rendering::local_to_world_matrix_at(eva::graphics::rendering::chained_transformation const&, float, eva::graphics::rendering::transformation::info&)',\n",
       "  0.0044229330630621315),\n",
       " ('eva::scenestore::transformation_sequence::matrix_at(float) const',\n",
       "  0.008894128840764067),\n",
       " ('absl::GetCurrentTimeNanos()', 0.014544313790381241),\n",
       " ('__libc_malloc', 0.005815657114096505),\n",
       " ('eva::graphics::rendering::item_node::update(float)', 0.0024682931201500283),\n",
       " ('void Pal::Gfx9::DepthStencilView::UpdateImageVa<Pal::Gfx9::Gfx9DepthStencilViewPm4Img>(Pal::Gfx9::Gfx9DepthStencilViewPm4Img*) const',\n",
       "  6.894673519972146e-05),\n",
       " ('yeti::internal::ImGuiRendererManager::OnPresent(VkQueue_T*, VkPresentInfoKHR*, VkSemaphore_T**)',\n",
       "  7.239407195970753e-05),\n",
       " ('eva::graphics::rendering::spatial_geometry::world_sphere() const',\n",
       "  0.006567176527773468),\n",
       " ('void std::__1::__sort<std::__1::__less<eva::graphics::rendering::spatial_geometry_draw_key, eva::graphics::rendering::spatial_geometry_draw_key>&, eva::graphics::rendering::spatial_geometry_draw_key*>(eva::graphics::rendering::spatial_geometry_draw_key*, eva::graphics::rendering::spatial_geometry_draw_key*, std::__1::__less<eva::graphics::rendering::spatial_geometry_draw_key, eva::graphics::rendering::spatial_geometry_draw_key>&)',\n",
       "  0.01825020080736627),\n",
       " ('dm_gfx::vulkan::vulkan_command_buffer::bind_vertex_buffers(unsigned int, dm_gfx::native_data_handle<dm_gfx::tag_buffer_handle> const*, unsigned int const*, unsigned int const*)',\n",
       "  0.003874806518224346),\n",
       " ('absl::Mutex::Lock()', 0.007153223776971101),\n",
       " ('eva::graphics::rendering::shadow_texture_collection::requires_different_texture_size(float, float) const',\n",
       "  0.0007894401180368107),\n",
       " ('eva::math::dot(eva::math::vector<float, 3ul> const&, eva::math::vector<float, 3ul> const&)',\n",
       "  0.015595751502176992),\n",
       " ('eva::graphics::rendering::camera::current_frame() const',\n",
       "  8.273608223966575e-05),\n",
       " ('yeti::internal::vulkan::SwapchainArgos::QueuePresentImpl(VkQueue_T*, VkPresentInfoKHR const*, int, unsigned long, int)',\n",
       "  7.58414087196936e-05),\n",
       " ('Umbra::RasterOps::testRectAny(Umbra::BlockRasterBuffer const&, Umbra::Vector4i const&)',\n",
       "  0.0012203572130350697),\n",
       " ('absl::Now()', 0.0038162017933045826),\n",
       " ('eva::graphics::index_buffer::buffer() const', 0.02308681428162673),\n",
       " ('Umbra::PortalCuller::finalizeCell(unsigned short)', 0.011969153230671645),\n",
       " ('eva::graphics::rendering::light_properties::falloff_exponent() const',\n",
       "  0.0026061865905494712),\n",
       " ('eva::graphics::rendering::material_shader_inputs::update_synchronous(float)',\n",
       "  0.005498502132177786)]"
      ]
     },
     "execution_count": 244,
     "metadata": {},
     "output_type": "execute_result"
    }
   ],
   "source": [
    "[(name, rate1[name])  for name in rejected_names]"
   ]
  },
  {
   "cell_type": "code",
   "execution_count": null,
   "metadata": {},
   "outputs": [],
   "source": [
    "pvalues.sort(key = lambda x : x[1]) \n"
   ]
  },
  {
   "cell_type": "code",
   "execution_count": null,
   "metadata": {},
   "outputs": [],
   "source": [
    "(pvalues)"
   ]
  },
  {
   "cell_type": "code",
   "execution_count": null,
   "metadata": {},
   "outputs": [],
   "source": [
    "pvalues"
   ]
  },
  {
   "cell_type": "code",
   "execution_count": null,
   "metadata": {},
   "outputs": [],
   "source": [
    "problem_name= pvalues[0][0]\n",
    "rate1[problem_name], rate2[problem_name]"
   ]
  },
  {
   "cell_type": "code",
   "execution_count": null,
   "metadata": {},
   "outputs": [],
   "source": [
    "test(capture1, rate1, capture2, rate2, problem_name)"
   ]
  },
  {
   "cell_type": "code",
   "execution_count": null,
   "metadata": {},
   "outputs": [],
   "source": [
    "len(set(rejected_names).intersection(names_with_high_overhead))"
   ]
  },
  {
   "cell_type": "code",
   "execution_count": null,
   "metadata": {},
   "outputs": [],
   "source": [
    "names_with_high_overhead"
   ]
  },
  {
   "cell_type": "code",
   "execution_count": null,
   "metadata": {},
   "outputs": [],
   "source": [
    "def overhead_per_function(capture1, capture2):\n",
    "  avg_frame_time1 = capture1.avg_frame_time()\n",
    "  avg_frame_time2 = capture2.avg_frame_time()\n",
    "\n",
    "  time_per_frame1 = capture1.time_per_frame()\n",
    "  time_per_frame2 = capture2.time_per_frame()\n",
    "\n",
    "  result = []\n",
    "  for name in names:\n",
    "    time1 = time_per_frame1[name]\n",
    "    time2 = time_per_frame2[name]\n",
    "    result.append((name, (time1 - time2) / (avg_frame_time1 - avg_frame_time2)))\n",
    "  return result\n",
    "\n",
    "overheads = overhead_per_function(capture1, capture2)\n",
    "overheads.sort(key = lambda x: -x[1])\n",
    "overheads_dict = dict(overheads)\n",
    "names_with_high_overhead = [name for name in names if overheads_dict[name] > 0.01]"
   ]
  }
 ],
 "metadata": {
  "interpreter": {
   "hash": "916dbcbb3f70747c44a77c7bcd40155683ae19c65e1c03b4aa3499c5328201f1"
  },
  "kernelspec": {
   "display_name": "Python 3.9.10 64-bit",
   "language": "python",
   "name": "python3"
  },
  "language_info": {
   "codemirror_mode": {
    "name": "ipython",
    "version": 3
   },
   "file_extension": ".py",
   "mimetype": "text/x-python",
   "name": "python",
   "nbconvert_exporter": "python",
   "pygments_lexer": "ipython3",
   "version": "3.9.10"
  },
  "orig_nbformat": 4
 },
 "nbformat": 4,
 "nbformat_minor": 2
}
