{
 "cells": [
  {
   "cell_type": "code",
   "execution_count": 37,
   "metadata": {},
   "outputs": [],
   "source": [
    "import pandas as pd\n",
    "import numpy as np\n",
    "from collections import defaultdict\n",
    "import scipy\n",
    "import scipy.stats\n",
    "from statsmodels.stats.multitest import multipletests\n",
    "\n",
    "\n",
    "def filter_functions(callstacks, names):\n",
    "  result = [[function for function in callstack if function in names] for callstack in callstacks]\n",
    "  return [callstack for callstack in result if len(callstack) > 1]\n",
    "\n",
    "class Capture:\n",
    "  # is used to throw out the initialization period when the benchmark has not been started yet, but the \n",
    "  # timetime is excessively long\n",
    "  def __init__(self, callstack_csv, frame_mean, frame_var, frame_ends, init_end_time): \n",
    "    self.frame_mean = frame_mean\n",
    "    self.frame_var = frame_var / 1e6 / 1e6\n",
    "    self.frame_ends = frame_ends\n",
    "    self.callstack_csv = callstack_csv\n",
    "    \n",
    "    self.callstack_csv = self.callstack_csv[self.callstack_csv[:,1] > init_end_time,:]\n",
    "    \n",
    "    self.callstack_csv = self.callstack_csv[self.callstack_csv[:, 1].argsort()] # sort by timestamp\n",
    "    self.frame_index_to_callstacks = self.get_frame_index_to_callstacks()\n",
    "    self.total_callstacks = sum(len(s) for s in self.frame_index_to_callstacks.values())\n",
    "\n",
    "  def filter_functions(self, names):\n",
    "    filterred = {}\n",
    "    for frame_index, callstacks in self.frame_index_to_callstacks.items():\n",
    "      filterred[frame_index] = filter_functions(callstacks, names)\n",
    "    self.frame_index_to_callstacks = filterred\n",
    "\n",
    "  # returns a dict frame_index -> List[Callstack]\n",
    "  def get_frame_index_to_callstacks(self): \n",
    "    frame_index_to_callstacks = {}\n",
    "    frame_index = 0\n",
    "    frame_end = self.frame_ends[frame_index]\n",
    "    frame_index_to_callstacks[frame_index] = []\n",
    "    callstack_names = [s.split('/') for s in  self.callstack_csv[:, 2]]\n",
    "    timestamps = self.callstack_csv[:, 1]\n",
    "    for i in range(self.callstack_csv.shape[0]):\n",
    "      timestamp = timestamps[i]\n",
    "\n",
    "      while timestamp > frame_end:\n",
    "        if frame_index + 1 == self.frame_ends.shape[0]: \n",
    "          return frame_index_to_callstacks\n",
    "        frame_index += 1\n",
    "        frame_end = self.frame_ends[frame_index]\n",
    "        frame_index_to_callstacks[frame_index] = [] \n",
    "      frame_index_to_callstacks[frame_index].append(callstack_names[i])\n",
    "    return frame_index_to_callstacks\n",
    "\n",
    "  def get_exclusive_count(self, function_name):\n",
    "    exclusive_count = 0;\n",
    "    for callstacks in self.frame_index_to_callstacks.values():\n",
    "      for callstack in callstacks:\n",
    "        if (len(callstack) > 0 and callstack[0] == function_name):\n",
    "          exclusive_count += 1\n",
    "    return exclusive_count\n",
    "\n",
    "  def avg_frame_time(self):\n",
    "    return self.frame_mean / 1e6\n",
    "\n",
    "  def total_callstacks(self):\n",
    "    return self.total_callstacks\n",
    "\n",
    "  def get_exclusive_rate(self):\n",
    "    name_to_hits = {}\n",
    "    for callstacks in self.frame_index_to_callstacks.values():\n",
    "      for callstack in callstacks:\n",
    "        head = callstack[0]\n",
    "        name_to_hits.setdefault(head, 0)\n",
    "        name_to_hits[head] += 1\n",
    "    total_callstacks = self.total_callstacks\n",
    "    return defaultdict(lambda : 0, dict([(name, (hits / total_callstacks)) for name, hits in name_to_hits.items()]))\n",
    "\n",
    "  def time_per_frame(self): \n",
    "    mean_frame_time = self.avg_frame_time()\n",
    "    return defaultdict(lambda : 0, dict([(name, (mean_frame_time  * rate)) for name, rate in self.get_exclusive_rate().items()]))\n",
    "\n",
    "  def function_names(self):\n",
    "    result = []\n",
    "    for callstacks in self.frame_index_to_callstacks.values():\n",
    "      for callstack in callstacks:\n",
    "        result += callstack\n",
    "    return list(set(result))\n"
   ]
  },
  {
   "cell_type": "code",
   "execution_count": 38,
   "metadata": {},
   "outputs": [],
   "source": [
    "def load_capture_with_frametrack(callstack_csv_path, frametrack_csv_path, max_frametime):\n",
    "  frametrack_csv = pd.read_csv(frametrack_csv_path).to_numpy()\n",
    "  frametrack_csv = frametrack_csv[frametrack_csv[:, 3].argsort()] # sort by end\n",
    "  frame_durations = frametrack_csv[:, 4]\n",
    "  frame_mean = frame_durations.mean()\n",
    "  frame_ends = frametrack_csv[:, 3]\n",
    "  last_init_frame = np.max((frame_durations > max_frametime).nonzero())\n",
    "  init_end_time = frametrack_csv[last_init_frame, 3]\n",
    "\n",
    "  frame_ends = frame_ends[last_init_frame:]\n",
    "  frame_mean = frame_durations[last_init_frame:].mean()\n",
    "  frame_var = frame_durations[last_init_frame:].var() / frame_durations[last_init_frame:].shape[0]\n",
    "  \n",
    "  return Capture(pd.read_csv(callstack_csv_path).to_numpy(), frame_mean, frame_var, frame_ends, init_end_time)"
   ]
  },
  {
   "cell_type": "code",
   "execution_count": null,
   "metadata": {},
   "outputs": [],
   "source": [
    "import json \n",
    "\n",
    "def load_cumbia_capture_with_results_json(callstack_csv_path, results_json_path):\n",
    "  results = json.load(open(results_json_path))\n",
    "  fps = results[\"outputs\"][1]['values']\n",
    "  fps = np.array(fps[1:])\n",
    "  times = np.array(results[\"outputs\"][1]['times'])\n",
    "  times.sort()\n",
    "  frame_mean = np.dot(np.diff(times), 1 / fps)/np.diff(times).sum()  * 1e9\n",
    "  init_end_ns_from_start = times[1] * 1e9\n",
    "  callstack_csv = pd.read_csv(callstack_csv_path).to_numpy()\n",
    "  start_orbit_time = callstack_csv[:, 1].min()\n",
    "  init_end_time = init_end_ns_from_start + start_orbit_time\n",
    "  \n",
    "  frame_ends = np.array([times.max() * 1e9 + start_orbit_time])\n",
    "  return Capture(callstack_csv, frame_mean, frame_ends, init_end_time)\n",
    "  "
   ]
  },
  {
   "cell_type": "code",
   "execution_count": 57,
   "metadata": {},
   "outputs": [],
   "source": [
    "# capture1 -- slow\n",
    "def test(capture1, rates1, capture2, rates2, name):\n",
    "  n1 = capture1.total_callstacks\n",
    "  n2 = capture2.total_callstacks\n",
    "  p1 = rates1[name] \n",
    "  p2 = rates2[name]  \n",
    "  f1 = capture1.avg_frame_time()\n",
    "  f2 = capture2.avg_frame_time()\n",
    "\n",
    "  stat = f1*p1 - f2*p2\n",
    "  var_p1 = p1 * (1 - p1) / n1 \n",
    "  var_p2 = p2 * (1 - p2) / n2\n",
    "  var_f1 = capture1.frame_var\n",
    "  var_f2 = capture2.frame_var \n",
    "\n",
    "  var1 = var_f1 * var_p1 + var_p1 * f1**2 + var_f1 * p1**2\n",
    "  var2 = var_f2 * var_p2 + var_p2 * f2**2 + var_f2 * p2**2\n",
    "\n",
    "  stat = stat / np.sqrt(var1 + var2)\n",
    "  p = scipy.stats.norm().cdf(stat)\n",
    "  if (np.isnan(p)): \n",
    "    return 1.0\n",
    "  return min(p, 1-p) * 2"
   ]
  },
  {
   "cell_type": "code",
   "execution_count": 58,
   "metadata": {},
   "outputs": [],
   "source": [
    "# capture1 = load_cumbia_capture_with_results_json(\"~/cumbia_vsync_callstack1_thread.csv\", '/usr/local/google/home/avanesov/result_vsync1.json')\n",
    "# capture2 = load_cumbia_capture_with_results_json(\"~/cumbia_vsync_callstack2_thread.csv\", '/usr/local/google/home/avanesov/result_vsync2.json')\n",
    "capture1 = load_capture_with_frametrack(\"~/cumbia_callstack_thread4k1.csv\", \"~/cumbia_frametrack4k1.csv\",  85*1e6)\n",
    "capture2 = load_capture_with_frametrack(\"~/cumbia_callstack_thread4k2.csv\", \"~/cumbia_frametrack4k2.csv\",  85*1e6)\n",
    "# capture1 = load_capture_with_frametrack(\"~/cumbia_callstack7_thread.csv\", \"~/cumbia_frametrack7.csv\",  85*1e6)\n",
    "# capture2 = load_capture_with_frametrack(\"~/cumbia_callstack6_thread.csv\", \"~/cumbia_frametrack6.csv\",  85*1e6)\n",
    "\n",
    "\n",
    "names1 = capture1.function_names()\n",
    "names2 = capture2.function_names()\n",
    "names = set(names1).intersection(set(names2))\n",
    "names.remove(\"???\")\n",
    "capture1.filter_functions(names)\n",
    "capture2.filter_functions(names)"
   ]
  },
  {
   "cell_type": "code",
   "execution_count": 60,
   "metadata": {},
   "outputs": [
    {
     "data": {
      "text/plain": [
       "(65741459.12401353, 65700346.80270575)"
      ]
     },
     "execution_count": 60,
     "metadata": {},
     "output_type": "execute_result"
    }
   ],
   "source": [
    "capture1.frame_mean, capture2.frame_mean"
   ]
  },
  {
   "cell_type": "code",
   "execution_count": 59,
   "metadata": {},
   "outputs": [
    {
     "name": "stderr",
     "output_type": "stream",
     "text": [
      "/tmp/ipykernel_3636859/2705725131.py:19: RuntimeWarning: invalid value encountered in double_scalars\n",
      "  stat = stat / np.sqrt(var1 + var2)\n",
      "/usr/local/google/home/avanesov/.local/lib/python3.9/site-packages/statsmodels/stats/multitest.py:177: RuntimeWarning: divide by zero encountered in log1p\n",
      "  np.log1p(-pvals))\n"
     ]
    }
   ],
   "source": [
    "rate1 = capture1.get_exclusive_rate()\n",
    "rate2 = capture2.get_exclusive_rate() \n",
    "pvalues = [(name, test(capture1, rate1, capture2, rate2, name)) for name in names]\n",
    "reject, corrected,_,_ = multipletests([pvalue for name, pvalue in pvalues])\n",
    "\n",
    "namesnp = np.array([name for name, pvalue in pvalues])\n",
    "rejected_names = namesnp[np.array(reject)]\n"
   ]
  },
  {
   "cell_type": "code",
   "execution_count": 61,
   "metadata": {},
   "outputs": [
    {
     "data": {
      "text/plain": [
       "array([], dtype=float64)"
      ]
     },
     "execution_count": 61,
     "metadata": {},
     "output_type": "execute_result"
    }
   ],
   "source": [
    "corrected[corrected < 0.05]"
   ]
  },
  {
   "cell_type": "code",
   "execution_count": 62,
   "metadata": {},
   "outputs": [
    {
     "data": {
      "text/plain": [
       "(0, 1327)"
      ]
     },
     "execution_count": 62,
     "metadata": {},
     "output_type": "execute_result"
    }
   ],
   "source": [
    "len(rejected_names), len(names)"
   ]
  },
  {
   "cell_type": "code",
   "execution_count": null,
   "metadata": {},
   "outputs": [],
   "source": [
    "[(name, rate1[name])  for name in rejected_names]"
   ]
  },
  {
   "cell_type": "code",
   "execution_count": 27,
   "metadata": {},
   "outputs": [],
   "source": [
    "pvalues.sort(key = lambda x : x[1]) \n"
   ]
  },
  {
   "cell_type": "code",
   "execution_count": 45,
   "metadata": {},
   "outputs": [
    {
     "name": "stdout",
     "output_type": "stream",
     "text": [
      "1.1885236966089256e-11 7.1309209212431e-11 0.10429592994193262 0.04582583268481589 65.74145912401353 27.542569230732862\n"
     ]
    },
    {
     "data": {
      "text/plain": [
       "0.2908352704186795"
      ]
     },
     "execution_count": 45,
     "metadata": {},
     "output_type": "execute_result"
    }
   ],
   "source": [
    "name = list(names)[10]\n",
    "test(capture1, rate1, capture2, rate2, name)"
   ]
  },
  {
   "cell_type": "code",
   "execution_count": null,
   "metadata": {},
   "outputs": [],
   "source": [
    "pvalues"
   ]
  },
  {
   "cell_type": "code",
   "execution_count": null,
   "metadata": {},
   "outputs": [],
   "source": [
    "problem_name= pvalues[0][0]\n",
    "rate1[problem_name], rate2[problem_name]"
   ]
  },
  {
   "cell_type": "code",
   "execution_count": null,
   "metadata": {},
   "outputs": [],
   "source": [
    "test(capture1, rate1, capture2, rate2, problem_name)"
   ]
  },
  {
   "cell_type": "code",
   "execution_count": null,
   "metadata": {},
   "outputs": [],
   "source": [
    "len(set(rejected_names).intersection(names_with_high_overhead))"
   ]
  },
  {
   "cell_type": "code",
   "execution_count": null,
   "metadata": {},
   "outputs": [],
   "source": [
    "names_with_high_overhead"
   ]
  },
  {
   "cell_type": "code",
   "execution_count": null,
   "metadata": {},
   "outputs": [],
   "source": [
    "def overhead_per_function(capture1, capture2):\n",
    "  avg_frame_time1 = capture1.avg_frame_time()\n",
    "  avg_frame_time2 = capture2.avg_frame_time()\n",
    "\n",
    "  time_per_frame1 = capture1.time_per_frame()\n",
    "  time_per_frame2 = capture2.time_per_frame()\n",
    "\n",
    "  result = []\n",
    "  for name in names:\n",
    "    time1 = time_per_frame1[name]\n",
    "    time2 = time_per_frame2[name]\n",
    "    result.append((name, (time1 - time2) / (avg_frame_time1 - avg_frame_time2)))\n",
    "  return result\n",
    "\n",
    "overheads = overhead_per_function(capture1, capture2)\n",
    "overheads.sort(key = lambda x: -x[1])\n",
    "overheads_dict = dict(overheads)\n",
    "names_with_high_overhead = [name for name in names if overheads_dict[name] > 0.01]"
   ]
  }
 ],
 "metadata": {
  "interpreter": {
   "hash": "916dbcbb3f70747c44a77c7bcd40155683ae19c65e1c03b4aa3499c5328201f1"
  },
  "kernelspec": {
   "display_name": "Python 3.9.10 64-bit",
   "language": "python",
   "name": "python3"
  },
  "language_info": {
   "codemirror_mode": {
    "name": "ipython",
    "version": 3
   },
   "file_extension": ".py",
   "mimetype": "text/x-python",
   "name": "python",
   "nbconvert_exporter": "python",
   "pygments_lexer": "ipython3",
   "version": "3.9.10"
  },
  "orig_nbformat": 4
 },
 "nbformat": 4,
 "nbformat_minor": 2
}
