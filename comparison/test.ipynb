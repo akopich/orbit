{
 "cells": [
  {
   "cell_type": "code",
   "execution_count": 1,
   "metadata": {},
   "outputs": [],
   "source": [
    "import pandas as pd\n",
    "import numpy as np\n",
    "from collections import defaultdict\n",
    "import scipy\n",
    "import scipy.stats\n",
    "from statsmodels.stats.multitest import multipletests\n",
    "\n",
    "\n",
    "def filter_functions(callstacks, names):\n",
    "  result = [[function for function in callstack if function in names] for callstack in callstacks]\n",
    "  return [callstack for callstack in result if len(callstack) > 1]\n",
    "\n",
    "class Capture:\n",
    "  # is used to throw out the initialization period when the benchmark has not been started yet, but the \n",
    "  # timetime is excessively long\n",
    "  def __init__(self, callstack_csv, frame_mean, frame_var, frame_ends, init_end_time): \n",
    "    self.frame_mean = frame_mean\n",
    "    self.frame_var = frame_var / 1e6 / 1e6\n",
    "    self.frame_ends = frame_ends\n",
    "    self.callstack_csv = callstack_csv\n",
    "    \n",
    "    self.callstack_csv = self.callstack_csv[self.callstack_csv[:,1] > init_end_time,:]\n",
    "    \n",
    "    self.callstack_csv = self.callstack_csv[self.callstack_csv[:, 1].argsort()] # sort by timestamp\n",
    "    self.frame_index_to_callstacks = self.get_frame_index_to_callstacks()\n",
    "    self.total_callstacks = sum(len(s) for s in self.frame_index_to_callstacks.values())\n",
    "\n",
    "  def filter_functions(self, names):\n",
    "    filterred = {}\n",
    "    for frame_index, callstacks in self.frame_index_to_callstacks.items():\n",
    "      filterred[frame_index] = filter_functions(callstacks, names)\n",
    "    self.frame_index_to_callstacks = filterred\n",
    "\n",
    "  # returns a dict frame_index -> List[Callstack]\n",
    "  def get_frame_index_to_callstacks(self): \n",
    "    frame_index_to_callstacks = {}\n",
    "    frame_index = 0\n",
    "    frame_end = self.frame_ends[frame_index]\n",
    "    frame_index_to_callstacks[frame_index] = []\n",
    "    callstack_names = [s.split('/') for s in  self.callstack_csv[:, 2]]\n",
    "    timestamps = self.callstack_csv[:, 1]\n",
    "    for i in range(self.callstack_csv.shape[0]):\n",
    "      timestamp = timestamps[i]\n",
    "\n",
    "      while timestamp > frame_end:\n",
    "        if frame_index + 1 == self.frame_ends.shape[0]: \n",
    "          return frame_index_to_callstacks\n",
    "        frame_index += 1\n",
    "        frame_end = self.frame_ends[frame_index]\n",
    "        frame_index_to_callstacks[frame_index] = [] \n",
    "      frame_index_to_callstacks[frame_index].append(callstack_names[i])\n",
    "    return frame_index_to_callstacks\n",
    "\n",
    "  def get_exclusive_count(self, function_name):\n",
    "    exclusive_count = 0;\n",
    "    for callstacks in self.frame_index_to_callstacks.values():\n",
    "      for callstack in callstacks:\n",
    "        if (len(callstack) > 0 and callstack[0] == function_name):\n",
    "          exclusive_count += 1\n",
    "    return exclusive_count\n",
    "\n",
    "  def avg_frame_time(self):\n",
    "    return self.frame_mean / 1e6\n",
    "\n",
    "  def total_callstacks(self):\n",
    "    return self.total_callstacks\n",
    "\n",
    "  def get_exclusive_rate(self):\n",
    "    name_to_hits = {}\n",
    "    for callstacks in self.frame_index_to_callstacks.values():\n",
    "      for callstack in callstacks:\n",
    "        head = callstack[0]\n",
    "        name_to_hits.setdefault(head, 0)\n",
    "        name_to_hits[head] += 1\n",
    "    total_callstacks = self.total_callstacks\n",
    "    return defaultdict(lambda : 0, dict([(name, (hits / total_callstacks)) for name, hits in name_to_hits.items()]))\n",
    "\n",
    "  def time_per_frame(self): \n",
    "    mean_frame_time = self.avg_frame_time()\n",
    "    return defaultdict(lambda : 0, dict([(name, (mean_frame_time  * rate)) for name, rate in self.get_exclusive_rate().items()]))\n",
    "\n",
    "  def function_names(self):\n",
    "    result = []\n",
    "    for callstacks in self.frame_index_to_callstacks.values():\n",
    "      for callstack in callstacks:\n",
    "        result += callstack\n",
    "    return list(set(result))\n"
   ]
  },
  {
   "cell_type": "code",
   "execution_count": 2,
   "metadata": {},
   "outputs": [],
   "source": [
    "states = pd.read_csv(\"~/cumbia_threadstates/mainthreadstates1.csv\", header=None)\n",
    "states.drop(0, inplace=True, axis=1)\n",
    "states.drop(1, inplace=True, axis=1)\n",
    "states = states.to_numpy()\n",
    "\n",
    "frametrack_csv = pd.read_csv('~/cumbia_threadstates/frametrack1.csv').to_numpy()"
   ]
  },
  {
   "cell_type": "code",
   "execution_count": 3,
   "metadata": {},
   "outputs": [
    {
     "ename": "KeyboardInterrupt",
     "evalue": "",
     "output_type": "error",
     "traceback": [
      "\u001b[0;31m---------------------------------------------------------------------------\u001b[0m",
      "\u001b[0;31mKeyboardInterrupt\u001b[0m                         Traceback (most recent call last)",
      "\u001b[1;32m/usr/local/google/home/avanesov/orbit/comparison/test.ipynb Cell 3'\u001b[0m in \u001b[0;36m<cell line: 14>\u001b[0;34m()\u001b[0m\n\u001b[1;32m     <a href='vscode-notebook-cell://ssh-remote%2Bavanesov.c.googlers.com/usr/local/google/home/avanesov/orbit/comparison/test.ipynb#ch0000002vscode-remote?line=12'>13</a>\u001b[0m durations \u001b[39m=\u001b[39m []\n\u001b[1;32m     <a href='vscode-notebook-cell://ssh-remote%2Bavanesov.c.googlers.com/usr/local/google/home/avanesov/orbit/comparison/test.ipynb#ch0000002vscode-remote?line=13'>14</a>\u001b[0m \u001b[39mfor\u001b[39;00m i \u001b[39min\u001b[39;00m \u001b[39mrange\u001b[39m(frametrack_csv\u001b[39m.\u001b[39mshape[\u001b[39m0\u001b[39m]):\n\u001b[0;32m---> <a href='vscode-notebook-cell://ssh-remote%2Bavanesov.c.googlers.com/usr/local/google/home/avanesov/orbit/comparison/test.ipynb#ch0000002vscode-remote?line=14'>15</a>\u001b[0m   durations \u001b[39m+\u001b[39m\u001b[39m=\u001b[39m [\u001b[39m1\u001b[39m \u001b[39m-\u001b[39m get_running_durations(frametrack_csv[i, \u001b[39m2\u001b[39;49m], frametrack_csv[i, \u001b[39m3\u001b[39;49m], states)\u001b[39m/\u001b[39m frametrack_csv[i, \u001b[39m4\u001b[39m]]\n",
      "\u001b[1;32m/usr/local/google/home/avanesov/orbit/comparison/test.ipynb Cell 3'\u001b[0m in \u001b[0;36mget_running_durations\u001b[0;34m(start, end, states)\u001b[0m\n\u001b[1;32m      <a href='vscode-notebook-cell://ssh-remote%2Bavanesov.c.googlers.com/usr/local/google/home/avanesov/orbit/comparison/test.ipynb#ch0000002vscode-remote?line=6'>7</a>\u001b[0m result \u001b[39m=\u001b[39m \u001b[39m0\u001b[39m\n\u001b[1;32m      <a href='vscode-notebook-cell://ssh-remote%2Bavanesov.c.googlers.com/usr/local/google/home/avanesov/orbit/comparison/test.ipynb#ch0000002vscode-remote?line=7'>8</a>\u001b[0m \u001b[39mfor\u001b[39;00m row \u001b[39min\u001b[39;00m states:\n\u001b[0;32m----> <a href='vscode-notebook-cell://ssh-remote%2Bavanesov.c.googlers.com/usr/local/google/home/avanesov/orbit/comparison/test.ipynb#ch0000002vscode-remote?line=8'>9</a>\u001b[0m   result \u001b[39m+\u001b[39m\u001b[39m=\u001b[39m intersection(start, end, row[\u001b[39m0\u001b[39m], row[\u001b[39m1\u001b[39m])\n\u001b[1;32m     <a href='vscode-notebook-cell://ssh-remote%2Bavanesov.c.googlers.com/usr/local/google/home/avanesov/orbit/comparison/test.ipynb#ch0000002vscode-remote?line=9'>10</a>\u001b[0m \u001b[39mreturn\u001b[39;00m result\n",
      "\u001b[0;31mKeyboardInterrupt\u001b[0m: "
     ]
    }
   ],
   "source": [
    "def intersection(start1, end1, start2, end2):\n",
    "  if start2 > end1 or start1 > end2:\n",
    "    return 0\n",
    "  return min(end1, end2) - max(start1, start2)\n",
    "\n",
    "def get_running_durations(start, end, states):\n",
    "  result = 0\n",
    "  for row in states:\n",
    "    result += intersection(start, end, row[0], row[1])\n",
    "  return result\n",
    "\n",
    "\n",
    "durations = []\n",
    "for i in range(frametrack_csv.shape[0]):\n",
    "  durations += [1 - get_running_durations(frametrack_csv[i, 2], frametrack_csv[i, 3], states)/ frametrack_csv[i, 4]]"
   ]
  },
  {
   "cell_type": "code",
   "execution_count": 2,
   "metadata": {},
   "outputs": [],
   "source": [
    "def active_frame_time(callstack_csv, frametrack_csv, sampling_interval):\n",
    "  frame_times = []\n",
    "  for frame in frametrack_csv:\n",
    "    start, end = frame[2], frame[3]\n",
    "    frame_times += [np.sum(np.logical_and((start < callstack_csv[:, 1]), (callstack_csv[:, 1] < end))) * sampling_interval]\n",
    "  frame_times = np.array(frame_times)\n",
    "  print(frame_times/1e6, frame_times.shape[0])\n",
    "  return frame_times.mean(), frame_times.var() / frame_times.shape[0]\n"
   ]
  },
  {
   "cell_type": "code",
   "execution_count": 14,
   "metadata": {},
   "outputs": [],
   "source": [
    "def load_capture_with_frametrack(callstack_csv_path, frametrack_csv_path, max_frametime, thread_running_path=None, sampling_interval = 2e5):\n",
    "  frametrack_csv = pd.read_csv(frametrack_csv_path).to_numpy()\n",
    "  frametrack_csv = frametrack_csv[frametrack_csv[:, 3].argsort()] # sort by end\n",
    "  callstack_csv = pd.read_csv(callstack_csv_path).to_numpy()\n",
    "\n",
    "  start = np.min(callstack_csv[:, 1])\n",
    "  frame_durations = frametrack_csv[:, 4]\n",
    "  frame_mean = frame_durations.mean()\n",
    "  frame_ends = frametrack_csv[:, 3]\n",
    "  last_init_frame = np.max((frame_durations > max_frametime).nonzero()) \n",
    "  init_end_time = frametrack_csv[last_init_frame, 3]\n",
    "\n",
    "  frametrack_csv = frametrack_csv[(last_init_frame+1):, :]\n",
    "  print(frametrack_csv[0][2] - start)\n",
    "  frame_ends = frame_ends[last_init_frame:]\n",
    "\n",
    "  if thread_running_path == None:\n",
    "    frame_durations = frame_durations[(last_init_frame+1):]\n",
    "  else:\n",
    "    thread_states = pd.read_csv(thread_running_path)\n",
    "\n",
    "  # frame_mean = frame_durations.mean()\n",
    "  # frame_var = frame_durations.var() / frame_durations[(last_init_frame+1):].shape[0]\n",
    "\n",
    "  frame_mean, frame_var = active_frame_time(callstack_csv, frametrack_csv, sampling_interval)\n",
    "  \n",
    "  return Capture(callstack_csv, frame_mean, frame_var + sampling_interval**2, frame_ends, init_end_time)"
   ]
  },
  {
   "cell_type": "code",
   "execution_count": 4,
   "metadata": {},
   "outputs": [],
   "source": [
    "# capture1 -- slow\n",
    "def test(capture1, rates1, capture2, rates2, name):\n",
    "  n1 = capture1.total_callstacks\n",
    "  n2 = capture2.total_callstacks\n",
    "  p1 = rates1[name] \n",
    "  p2 = rates2[name]  \n",
    "  f1 = capture1.avg_frame_time()\n",
    "  f2 = capture2.avg_frame_time()\n",
    "\n",
    "  stat = f1*p1 - f2*p2\n",
    "  var_p1 = p1 * (1 - p1) / n1 \n",
    "  var_p2 = p2 * (1 - p2) / n2\n",
    "  var_f1 = capture1.frame_var\n",
    "  var_f2 = capture2.frame_var \n",
    "\n",
    "  var1 = var_f1 * var_p1 + var_p1 * f1**2 + var_f1 * p1**2\n",
    "  var2 = var_f2 * var_p2 + var_p2 * f2**2 + var_f2 * p2**2\n",
    "  stat = stat / np.sqrt(var1 + var2)\n",
    "  \n",
    "  p = scipy.stats.norm().cdf(stat)\n",
    "  if (np.isnan(p)): \n",
    "    return 1.0\n",
    "  return min(p, 1-p) * 2"
   ]
  },
  {
   "cell_type": "code",
   "execution_count": 5,
   "metadata": {},
   "outputs": [],
   "source": [
    "def get_idle_intervals(callstack, threshold = 20e5):\n",
    "  intervals = []\n",
    "  times = np.sort(callstack[:,1])\n",
    "  for i in range(len(times) - 1):\n",
    "    if times[i+1] - times[i] > threshold:\n",
    "      intervals += [[times[i], times[i+1]]]\n",
    "  \n",
    "  return np.array(intervals)"
   ]
  },
  {
   "cell_type": "code",
   "execution_count": 17,
   "metadata": {},
   "outputs": [
    {
     "name": "stdout",
     "output_type": "stream",
     "text": [
      "13403585600\n",
      "[21.  19.4 15.8 ...  5.4  5.4  0. ] 2117\n",
      "6982903600\n",
      "[16.2 19.6 13.4 ...  4.8  4.4  0. ] 2172\n"
     ]
    }
   ],
   "source": [
    "# capture1 = load_cumbia_capture_with_results_json(\"~/cumbia_vsync_callstack1_thread.csv\", '/usr/local/google/home/avanesov/result_vsync1.json')\n",
    "# capture2 = load_cumbia_capture_with_results_json(\"~/cumbia_vsync_callstack2_thread.csv\", '/usr/local/google/home/avanesov/result_vsync2.json')\n",
    "# capture1 = load_capture_with_frametrack(\"~/cumbia_callstack_thread4k1.csv\", \"~/cumbia_frametrack4k1.csv\",  85*1e6)\n",
    "# capture2 = load_capture_with_frametrack(\"~/cumbia_callstack_thread4k2.csv\", \"~/cumbia_frametrack4k2.csv\",  85*1e6)\n",
    "capture1 = load_capture_with_frametrack(\"~/wincum/win_fhd_callstack.csv\", \"~/wincum/win_fhd_frametrack.csv\",   85*1e6)\n",
    "capture2 = load_capture_with_frametrack(\"~/wincum/win_fhd_callstack1.csv\", \"~/wincum/win_fhd_frametrack1.csv\",   85*1e6)\n",
    "# capture2 = load_capture_with_frametrack(\"~/ggpcumpackage/fhd2_callstack.csv\", \"~/ggpcumpackage/fhd2_frametrack.csv\",   85*1e6)\n",
    "# capture1 = load_capture_with_frametrack( \"~/ggpcumpackage/4k1_callstack.csv\", \"~/ggpcumpackage/4k1_frametrack.csv\",  85*1e6)\n",
    "# capture2 = load_capture_with_frametrack( \"~/ggpcumpackage/4k2_callstack.csv\", \"~/ggpcumpackage/4k2_frametrack.csv\",  85*1e6)\n",
    "\n",
    "\n",
    "names1 = capture1.function_names()\n",
    "names2 = capture2.function_names()\n",
    "names = set(names1).intersection(set(names2))\n",
    "names.remove(\"???\")\n",
    "capture1.filter_functions(names)\n",
    "capture2.filter_functions(names)"
   ]
  },
  {
   "cell_type": "code",
   "execution_count": 18,
   "metadata": {},
   "outputs": [
    {
     "data": {
      "text/plain": [
       "(11137647.61454889, 10810865.56169429, 0.21664852501670367)"
      ]
     },
     "execution_count": 18,
     "metadata": {},
     "output_type": "execute_result"
    }
   ],
   "source": [
    "capture1.frame_mean, capture2.frame_mean, np.sqrt(capture1.frame_var)"
   ]
  },
  {
   "cell_type": "code",
   "execution_count": 19,
   "metadata": {},
   "outputs": [
    {
     "name": "stderr",
     "output_type": "stream",
     "text": [
      "/tmp/ipykernel_809501/3730865844.py:18: RuntimeWarning: invalid value encountered in double_scalars\n",
      "  stat = stat / np.sqrt(var1 + var2)\n",
      "/usr/local/google/home/avanesov/.local/lib/python3.9/site-packages/statsmodels/stats/multitest.py:177: RuntimeWarning: divide by zero encountered in log1p\n",
      "  np.log1p(-pvals))\n"
     ]
    }
   ],
   "source": [
    "rate1 = capture1.get_exclusive_rate()\n",
    "rate2 = capture2.get_exclusive_rate() \n",
    "pvalues = [(name, test(capture1, rate1, capture2, rate2, name)) for name in names]\n",
    "reject, corrected,_,_ = multipletests([pvalue for name, pvalue in pvalues])\n",
    "\n",
    "namesnp = np.array([name for name, pvalue in pvalues])\n",
    "rejected_names = namesnp[np.array(reject)]\n"
   ]
  },
  {
   "cell_type": "code",
   "execution_count": 20,
   "metadata": {},
   "outputs": [
    {
     "data": {
      "text/plain": [
       "array([], dtype=float64)"
      ]
     },
     "execution_count": 20,
     "metadata": {},
     "output_type": "execute_result"
    }
   ],
   "source": [
    "corrected[corrected < 0.05]"
   ]
  },
  {
   "cell_type": "code",
   "execution_count": 11,
   "metadata": {},
   "outputs": [
    {
     "data": {
      "text/plain": [
       "(59, 108)"
      ]
     },
     "execution_count": 11,
     "metadata": {},
     "output_type": "execute_result"
    }
   ],
   "source": [
    "np.sum(reject), len(reject)"
   ]
  },
  {
   "cell_type": "code",
   "execution_count": 57,
   "metadata": {},
   "outputs": [
    {
     "data": {
      "text/plain": [
       "(14346241.290795745,\n",
       " 14219258.720930232,\n",
       " 0.2150544339702751,\n",
       " 0.21604799848295317)"
      ]
     },
     "execution_count": 57,
     "metadata": {},
     "output_type": "execute_result"
    }
   ],
   "source": [
    "capture1.frame_mean, capture2.frame_mean, np.sqrt(capture1.frame_var), np.sqrt(capture2.frame_var)"
   ]
  },
  {
   "cell_type": "code",
   "execution_count": 58,
   "metadata": {},
   "outputs": [
    {
     "data": {
      "text/plain": [
       "[('eva::graphics::rendering::rgba_blend_shader_inputs::update(float)',\n",
       "  0.0004952871133441581,\n",
       "  0.0008678517096678681,\n",
       "  7105.508436256994,\n",
       "  12340.207991169045,\n",
       "  1.7367100611971915),\n",
       " ('vk::entry::vkCmdBindVertexBuffers(VkCommandBuffer_T*, unsigned int, unsigned int, VkBuffer_T* const*, unsigned long const*)',\n",
       "  0.0016186187106195685,\n",
       "  0.0024861398976955985,\n",
       "  23221.094580345023,\n",
       "  35351.066421760734,\n",
       "  1.5223686506011156),\n",
       " ('eva::concurrent::thread_aware_task_sink::execute_task(bool)',\n",
       "  0.005861748516691686,\n",
       "  0.004181003236576376,\n",
       "  84094.05860642297,\n",
       "  59450.76673392615,\n",
       "  0.7069556127879097)]"
      ]
     },
     "execution_count": 58,
     "metadata": {},
     "output_type": "execute_result"
    }
   ],
   "source": [
    "[(name, rate1[name], rate2[name], capture1.frame_mean*rate1[name], capture2.frame_mean*rate2[name], capture2.frame_mean/capture1.frame_mean*rate2[name]/rate1[name])  for name in rejected_names]"
   ]
  },
  {
   "cell_type": "code",
   "execution_count": null,
   "metadata": {},
   "outputs": [],
   "source": [
    "pvalues.sort(key = lambda x : x[1]) \n"
   ]
  },
  {
   "cell_type": "code",
   "execution_count": null,
   "metadata": {},
   "outputs": [],
   "source": [
    "name = list(names)[10]\n",
    "test(capture1, rate1, capture2, rate2, name)"
   ]
  },
  {
   "cell_type": "code",
   "execution_count": null,
   "metadata": {},
   "outputs": [],
   "source": [
    "pvalues"
   ]
  },
  {
   "cell_type": "code",
   "execution_count": null,
   "metadata": {},
   "outputs": [],
   "source": [
    "problem_name= pvalues[0][0]\n",
    "rate1[problem_name], rate2[problem_name]"
   ]
  },
  {
   "cell_type": "code",
   "execution_count": null,
   "metadata": {},
   "outputs": [],
   "source": [
    "test(capture1, rate1, capture2, rate2, problem_name)"
   ]
  },
  {
   "cell_type": "code",
   "execution_count": null,
   "metadata": {},
   "outputs": [],
   "source": [
    "len(set(rejected_names).intersection(names_with_high_overhead))"
   ]
  },
  {
   "cell_type": "code",
   "execution_count": null,
   "metadata": {},
   "outputs": [],
   "source": [
    "names_with_high_overhead"
   ]
  },
  {
   "cell_type": "code",
   "execution_count": null,
   "metadata": {},
   "outputs": [],
   "source": [
    "def overhead_per_function(capture1, capture2):\n",
    "  avg_frame_time1 = capture1.avg_frame_time()\n",
    "  avg_frame_time2 = capture2.avg_frame_time()\n",
    "\n",
    "  time_per_frame1 = capture1.time_per_frame()\n",
    "  time_per_frame2 = capture2.time_per_frame()\n",
    "\n",
    "  result = []\n",
    "  for name in names:\n",
    "    time1 = time_per_frame1[name]\n",
    "    time2 = time_per_frame2[name]\n",
    "    result.append((name, (time1 - time2) / (avg_frame_time1 - avg_frame_time2)))\n",
    "  return result\n",
    "\n",
    "overheads = overhead_per_function(capture1, capture2)\n",
    "overheads.sort(key = lambda x: -x[1])\n",
    "overheads_dict = dict(overheads)\n",
    "names_with_high_overhead = [name for name in names if overheads_dict[name] > 0.01]"
   ]
  },
  {
   "cell_type": "code",
   "execution_count": null,
   "metadata": {},
   "outputs": [],
   "source": [
    "frametrack1_path = '~/cumbia_frametrack8.csv'\n",
    "frametrack2_path = '~/cumbia_frametrack9.csv'\n",
    "frametrack1 = pd.read_csv(frametrack1_path).to_numpy()[:, 4]\n",
    "frametrack2 = pd.read_csv(frametrack2_path).to_numpy()[:, 4]"
   ]
  },
  {
   "cell_type": "code",
   "execution_count": null,
   "metadata": {},
   "outputs": [],
   "source": [
    "frametrack1"
   ]
  },
  {
   "cell_type": "code",
   "execution_count": null,
   "metadata": {},
   "outputs": [],
   "source": [
    "import scipy\n",
    "from scipy.stats import ttest_ind"
   ]
  },
  {
   "cell_type": "code",
   "execution_count": null,
   "metadata": {},
   "outputs": [],
   "source": [
    "ttest_ind(frametrack1, frametrack2, equal_var=False)"
   ]
  },
  {
   "cell_type": "code",
   "execution_count": null,
   "metadata": {},
   "outputs": [],
   "source": [
    "frametrack1.mean(), frametrack2.mean()"
   ]
  },
  {
   "cell_type": "code",
   "execution_count": null,
   "metadata": {},
   "outputs": [],
   "source": []
  }
 ],
 "metadata": {
  "interpreter": {
   "hash": "916dbcbb3f70747c44a77c7bcd40155683ae19c65e1c03b4aa3499c5328201f1"
  },
  "kernelspec": {
   "display_name": "Python 3.9.10 64-bit",
   "language": "python",
   "name": "python3"
  },
  "language_info": {
   "codemirror_mode": {
    "name": "ipython",
    "version": 3
   },
   "file_extension": ".py",
   "mimetype": "text/x-python",
   "name": "python",
   "nbconvert_exporter": "python",
   "pygments_lexer": "ipython3",
   "version": "3.9.10"
  },
  "orig_nbformat": 4
 },
 "nbformat": 4,
 "nbformat_minor": 2
}
