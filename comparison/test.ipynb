{
 "cells": [
  {
   "cell_type": "code",
   "execution_count": 1,
   "metadata": {},
   "outputs": [],
   "source": [
    "import pandas as pd\n",
    "import numpy as np\n",
    "from collections import defaultdict\n",
    "import scipy\n",
    "import scipy.stats\n",
    "import statsmodels\n",
    "from statsmodels.stats.multitest import multipletests\n",
    "\n",
    "\n",
    "def filter_functions(callstacks, names):\n",
    "  result = [[function for function in callstack if function in names] for callstack in callstacks]\n",
    "  return [callstack for callstack in result if len(callstack) > 1]\n",
    "\n",
    "class Capture:\n",
    "  def __init__(self, callstack_csv_path, frametrack_csv_path): \n",
    "    self.callstack_csv = pd.read_csv(callstack_csv_path).to_numpy()\n",
    "    self.frametrack_csv = pd.read_csv(frametrack_csv_path).to_numpy()\n",
    "    self.frame_durations = self.frametrack_csv[:, 4]\n",
    "    \n",
    "    # last_init_frame = np.max((self.frame_durations > 50*1e6).nonzero())\n",
    "    # init_end_time = self.frametrack_csv[last_init_frame, 3]\n",
    "    # self.frametrack_csv = self.frametrack_csv[self.frametrack_csv[:,2] > init_end_time,:]\n",
    "    # self.callstack_csv = self.callstack_csv[self.callstack_csv[:,1] > init_end_time,:]\n",
    "    # self.frame_durations = self.frametrack_csv[:, 4]\n",
    "    \n",
    "    self.callstack_csv = self.callstack_csv[self.callstack_csv[:, 1].argsort()] # sort by timestamp\n",
    "    self.frametrack_csv = self.frametrack_csv[self.frametrack_csv[:, 3].argsort()] # sort by end\n",
    "    self.frame_index_to_callstacks = self.get_frame_index_to_callstacks()\n",
    "\n",
    "  def filter_functions(self, names):\n",
    "    filterred = {}\n",
    "    for frame_index, callstacks in self.frame_index_to_callstacks.items():\n",
    "      filterred[frame_index] = filter_functions(callstacks, names)\n",
    "    self.frame_index_to_callstacks = filterred\n",
    "\n",
    "  # returns a dict frame_index -> List[Callstack]\n",
    "  def get_frame_index_to_callstacks(self): \n",
    "    frame_index_to_callstacks = {}\n",
    "    frame_index = 0\n",
    "    frame_ends = self.frametrack_csv[:, 3]\n",
    "    frame_end = frame_ends[frame_index]\n",
    "    frame_index_to_callstacks[frame_index] = []\n",
    "    callstack_names = [s.split('/') for s in  self.callstack_csv[:, 2]]\n",
    "    timestamps = self.callstack_csv[:, 1]\n",
    "    for i in range(self.callstack_csv.shape[0]):\n",
    "      timestamp = timestamps[i]\n",
    "\n",
    "      while timestamp > frame_end:\n",
    "        if frame_index + 1 == self.frametrack_csv.shape[0]: \n",
    "          return frame_index_to_callstacks\n",
    "        frame_index += 1\n",
    "        frame_end = frame_ends[frame_index]\n",
    "        frame_index_to_callstacks[frame_index] = [] \n",
    "      frame_index_to_callstacks[frame_index].append(callstack_names[i])\n",
    "    return frame_index_to_callstacks\n",
    "\n",
    "  def get_exclusive_count(self, function_name):\n",
    "    exclusive_count = 0;\n",
    "    for callstacks in self.frame_index_to_callstacks.values():\n",
    "      for callstack in callstacks:\n",
    "        if (len(callstack) > 0 and callstack[0] == function_name):\n",
    "          exclusive_count += 1\n",
    "    return exclusive_count\n",
    "\n",
    "  def avg_frame_time(self):\n",
    "    return self.frame_durations.mean() / 1e6\n",
    "\n",
    "  def total_callstacks(self):\n",
    "    return  sum(len(s) for s in self.frame_index_to_callstacks.values())\n",
    "\n",
    "  def get_exclusive_rate(self):\n",
    "    name_to_hits = {}\n",
    "    for callstacks in self.frame_index_to_callstacks.values():\n",
    "      for callstack in callstacks:\n",
    "        head = callstack[0]\n",
    "        name_to_hits.setdefault(head, 0)\n",
    "        name_to_hits[head] += 1\n",
    "    total_callstacks = self.total_callstacks()\n",
    "    return defaultdict(lambda : 0, dict([(name, (hits / total_callstacks)) for name, hits in name_to_hits.items()]))\n",
    "\n",
    "  def time_per_frame(self): \n",
    "    mean_frame_time = self.avg_frame_time()\n",
    "    return defaultdict(lambda : 0, dict([(name, (mean_frame_time  * rate)) for name, rate in self.get_exclusive_rate().items()]))\n",
    "\n",
    "  def function_names(self):\n",
    "    result = []\n",
    "    for callstacks in self.frame_index_to_callstacks.values():\n",
    "      for callstack in callstacks:\n",
    "        result += callstack\n",
    "    return list(set(result))\n"
   ]
  },
  {
   "cell_type": "code",
   "execution_count": 2,
   "metadata": {},
   "outputs": [],
   "source": [
    "capture1 = Capture(\"~/cumbia_callstack1_thread.csv\", \"~/cumbia_frametrack1.csv\")\n",
    "capture2 = Capture(\"~/cumbia_callstack2_thread.csv\", \"~/cumbia_frametrack2.csv\")"
   ]
  },
  {
   "cell_type": "code",
   "execution_count": 3,
   "metadata": {},
   "outputs": [],
   "source": [
    "def overhead_per_function(capture1, capture2):\n",
    "  names1 = capture1.function_names()\n",
    "  names2 = capture2.function_names()\n",
    "  names = set(names1).intersection(set(names2))\n",
    "  names.remove(\"???\")\n",
    "  capture1.filter_functions(names)\n",
    "  capture2.filter_functions(names)\n",
    "\n",
    "  avg_frame_time1 = capture1.avg_frame_time()\n",
    "  avg_frame_time2 = capture2.avg_frame_time()\n",
    "\n",
    "  time_per_frame1 = capture1.time_per_frame()\n",
    "  time_per_frame2 = capture2.time_per_frame()\n",
    "\n",
    "  result = []\n",
    "  for name in names:\n",
    "    time1 = time_per_frame1[name]\n",
    "    time2 = time_per_frame2[name]\n",
    "    result.append((name, (time1 - time2) / (avg_frame_time1 - avg_frame_time2)))\n",
    "  return result\n"
   ]
  },
  {
   "cell_type": "code",
   "execution_count": 4,
   "metadata": {},
   "outputs": [],
   "source": [
    "overheads = overhead_per_function(capture1, capture2)"
   ]
  },
  {
   "cell_type": "code",
   "execution_count": 5,
   "metadata": {},
   "outputs": [],
   "source": [
    "overheads.sort(key = lambda x: -x[1])"
   ]
  },
  {
   "cell_type": "code",
   "execution_count": 6,
   "metadata": {},
   "outputs": [],
   "source": [
    "def test(capture1, rates1, capture2, rates2, name):\n",
    "  n1 = capture1.total_callstacks()\n",
    "  n2 = capture2.total_callstacks()\n",
    "  p1 = rates1[name] \n",
    "  p2 = rates2[name]  \n",
    "  f1 = capture1.avg_frame_time()\n",
    "  f2 = capture2.avg_frame_time()\n",
    "\n",
    "  stat = f1*p1 - f2*p2\n",
    "  stat_var = f1*p1*(f1-f1*p1)/n1 + f2*p2*(f2-f2*p2)/n2\n",
    "  stat = stat / np.sqrt(stat_var)\n",
    "  p = scipy.stats.norm().cdf(stat)\n",
    "  return 1-p\n",
    "\n",
    "  "
   ]
  },
  {
   "cell_type": "code",
   "execution_count": 7,
   "metadata": {},
   "outputs": [
    {
     "name": "stderr",
     "output_type": "stream",
     "text": [
      "/tmp/ipykernel_2229794/3252247193.py:11: RuntimeWarning: invalid value encountered in double_scalars\n",
      "  stat = stat / np.sqrt(stat_var)\n"
     ]
    }
   ],
   "source": [
    "names1 = capture1.function_names()\n",
    "names2 = capture2.function_names()\n",
    "rate1 = capture1.get_exclusive_rate()\n",
    "rate2 = capture2.get_exclusive_rate()\n",
    "names = set(names1).intersection(set(names2))\n",
    "pvalues = [(name, test(capture1, rate1, capture2, rate2, name)) for name in names]"
   ]
  },
  {
   "cell_type": "code",
   "execution_count": 8,
   "metadata": {},
   "outputs": [
    {
     "name": "stderr",
     "output_type": "stream",
     "text": [
      "/usr/local/google/home/avanesov/.local/lib/python3.9/site-packages/statsmodels/stats/multitest.py:177: RuntimeWarning: divide by zero encountered in log1p\n",
      "  np.log1p(-pvals))\n"
     ]
    }
   ],
   "source": [
    "reject, corrected,_,_ = multipletests([pvalue for name, pvalue in pvalues])"
   ]
  },
  {
   "cell_type": "code",
   "execution_count": 9,
   "metadata": {},
   "outputs": [
    {
     "data": {
      "text/plain": [
       "array([False, False, False, ..., False, False, False])"
      ]
     },
     "execution_count": 9,
     "metadata": {},
     "output_type": "execute_result"
    }
   ],
   "source": [
    "np.array(reject)"
   ]
  },
  {
   "cell_type": "code",
   "execution_count": 10,
   "metadata": {},
   "outputs": [],
   "source": [
    "namesnp = np.array([name for name, pvalue in pvalues])\n",
    "rejected_names = namesnp[np.array(reject)]"
   ]
  },
  {
   "cell_type": "code",
   "execution_count": 11,
   "metadata": {},
   "outputs": [
    {
     "data": {
      "text/plain": [
       "[176.0, 705.0]"
      ]
     },
     "execution_count": 11,
     "metadata": {},
     "output_type": "execute_result"
    }
   ],
   "source": [
    "[rate1[name] * capture1.total_callstacks() for name in rejected_names]"
   ]
  },
  {
   "cell_type": "code",
   "execution_count": 12,
   "metadata": {},
   "outputs": [
    {
     "data": {
      "text/plain": [
       "array(['eva::concurrent::thread::current()',\n",
       "       'eva::concurrent::dispatching::refresh_dependencies()'],\n",
       "      dtype='<U10640')"
      ]
     },
     "execution_count": 12,
     "metadata": {},
     "output_type": "execute_result"
    }
   ],
   "source": [
    "rejected_names"
   ]
  },
  {
   "cell_type": "code",
   "execution_count": 13,
   "metadata": {},
   "outputs": [
    {
     "data": {
      "text/plain": [
       "('inflate', 0.39241452134279214)"
      ]
     },
     "execution_count": 13,
     "metadata": {},
     "output_type": "execute_result"
    }
   ],
   "source": [
    "overheads[0]"
   ]
  },
  {
   "cell_type": "code",
   "execution_count": null,
   "metadata": {},
   "outputs": [],
   "source": []
  }
 ],
 "metadata": {
  "interpreter": {
   "hash": "916dbcbb3f70747c44a77c7bcd40155683ae19c65e1c03b4aa3499c5328201f1"
  },
  "kernelspec": {
   "display_name": "Python 3.9.10 64-bit",
   "language": "python",
   "name": "python3"
  },
  "language_info": {
   "codemirror_mode": {
    "name": "ipython",
    "version": 3
   },
   "file_extension": ".py",
   "mimetype": "text/x-python",
   "name": "python",
   "nbconvert_exporter": "python",
   "pygments_lexer": "ipython3",
   "version": "3.9.10"
  },
  "orig_nbformat": 4
 },
 "nbformat": 4,
 "nbformat_minor": 2
}
