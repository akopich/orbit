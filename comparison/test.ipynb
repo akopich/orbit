{
 "cells": [
  {
   "cell_type": "code",
   "execution_count": 1,
   "metadata": {},
   "outputs": [],
   "source": [
    "import pandas as pd\n",
    "import numpy as np\n",
    "from collections import defaultdict\n",
    "import scipy\n",
    "import scipy.stats\n",
    "from statsmodels.stats.multitest import multipletests\n",
    "\n",
    "\n",
    "def filter_functions(callstacks, names):\n",
    "  result = [[function for function in callstack if function in names] for callstack in callstacks]\n",
    "  return [callstack for callstack in result if len(callstack) > 1]\n",
    "\n",
    "class Capture:\n",
    "  # is used to throw out the initialization period when the benchmark has not been started yet, but the \n",
    "  # timetime is excessively long\n",
    "  def __init__(self, callstack_csv, frame_mean, frame_var, frame_ends, init_end_time): \n",
    "    self.frame_mean = frame_mean\n",
    "    self.frame_var = frame_var / 1e6 / 1e6\n",
    "    self.frame_ends = frame_ends\n",
    "    self.callstack_csv = callstack_csv\n",
    "    \n",
    "    self.callstack_csv = self.callstack_csv[self.callstack_csv[:,1] > init_end_time,:]\n",
    "    \n",
    "    self.callstack_csv = self.callstack_csv[self.callstack_csv[:, 1].argsort()] # sort by timestamp\n",
    "    self.frame_index_to_callstacks = self.get_frame_index_to_callstacks()\n",
    "    self.total_callstacks = sum(len(s) for s in self.frame_index_to_callstacks.values())\n",
    "\n",
    "  def filter_functions(self, names):\n",
    "    filterred = {}\n",
    "    for frame_index, callstacks in self.frame_index_to_callstacks.items():\n",
    "      filterred[frame_index] = filter_functions(callstacks, names)\n",
    "    self.frame_index_to_callstacks = filterred\n",
    "\n",
    "  # returns a dict frame_index -> List[Callstack]\n",
    "  def get_frame_index_to_callstacks(self): \n",
    "    frame_index_to_callstacks = {}\n",
    "    frame_index = 0\n",
    "    frame_end = self.frame_ends[frame_index]\n",
    "    frame_index_to_callstacks[frame_index] = []\n",
    "    callstack_names = [s.split('/') for s in  self.callstack_csv[:, 2]]\n",
    "    timestamps = self.callstack_csv[:, 1]\n",
    "    for i in range(self.callstack_csv.shape[0]):\n",
    "      timestamp = timestamps[i]\n",
    "\n",
    "      while timestamp > frame_end:\n",
    "        if frame_index + 1 == self.frame_ends.shape[0]: \n",
    "          return frame_index_to_callstacks\n",
    "        frame_index += 1\n",
    "        frame_end = self.frame_ends[frame_index]\n",
    "        frame_index_to_callstacks[frame_index] = [] \n",
    "      frame_index_to_callstacks[frame_index].append(callstack_names[i])\n",
    "    return frame_index_to_callstacks\n",
    "\n",
    "  def get_exclusive_count(self, function_name):\n",
    "    exclusive_count = 0;\n",
    "    for callstacks in self.frame_index_to_callstacks.values():\n",
    "      for callstack in callstacks:\n",
    "        if (len(callstack) > 0 and callstack[0] == function_name):\n",
    "          exclusive_count += 1\n",
    "    return exclusive_count\n",
    "\n",
    "  def avg_frame_time(self):\n",
    "    return self.frame_mean / 1e6\n",
    "\n",
    "  def total_callstacks(self):\n",
    "    return self.total_callstacks\n",
    "\n",
    "  def get_exclusive_rate(self):\n",
    "    name_to_hits = {}\n",
    "    for callstacks in self.frame_index_to_callstacks.values():\n",
    "      for callstack in callstacks:\n",
    "        head = callstack[0]\n",
    "        name_to_hits.setdefault(head, 0)\n",
    "        name_to_hits[head] += 1\n",
    "    total_callstacks = self.total_callstacks\n",
    "    return defaultdict(lambda : 0, dict([(name, (hits / total_callstacks)) for name, hits in name_to_hits.items()]))\n",
    "\n",
    "  def time_per_frame(self): \n",
    "    mean_frame_time = self.avg_frame_time()\n",
    "    return defaultdict(lambda : 0, dict([(name, (mean_frame_time  * rate)) for name, rate in self.get_exclusive_rate().items()]))\n",
    "\n",
    "  def function_names(self):\n",
    "    result = []\n",
    "    for callstacks in self.frame_index_to_callstacks.values():\n",
    "      for callstack in callstacks:\n",
    "        result += callstack\n",
    "    return list(set(result))\n"
   ]
  },
  {
   "cell_type": "code",
   "execution_count": 16,
   "metadata": {},
   "outputs": [],
   "source": [
    "states = pd.read_csv(\"~/cumbia_threadstates/mainthreadstates1.csv\", header=None)\n",
    "states.drop(0, inplace=True, axis=1)\n",
    "states.drop(1, inplace=True, axis=1)\n",
    "states = states.to_numpy()\n",
    "\n",
    "frametrack_csv = pd.read_csv('~/cumbia_threadstates/frametrack1.csv').to_numpy()"
   ]
  },
  {
   "cell_type": "code",
   "execution_count": 2,
   "metadata": {},
   "outputs": [
    {
     "ename": "NameError",
     "evalue": "name 'frametrack_csv' is not defined",
     "output_type": "error",
     "traceback": [
      "\u001b[0;31m---------------------------------------------------------------------------\u001b[0m",
      "\u001b[0;31mNameError\u001b[0m                                 Traceback (most recent call last)",
      "\u001b[1;32m/usr/local/google/home/avanesov/orbit/comparison/test.ipynb Cell 3'\u001b[0m in \u001b[0;36m<cell line: 14>\u001b[0;34m()\u001b[0m\n\u001b[1;32m     <a href='vscode-notebook-cell://ssh-remote%2Bavanesov.c.googlers.com/usr/local/google/home/avanesov/orbit/comparison/test.ipynb#ch0000002vscode-remote?line=9'>10</a>\u001b[0m   \u001b[39mreturn\u001b[39;00m result\n\u001b[1;32m     <a href='vscode-notebook-cell://ssh-remote%2Bavanesov.c.googlers.com/usr/local/google/home/avanesov/orbit/comparison/test.ipynb#ch0000002vscode-remote?line=12'>13</a>\u001b[0m durations \u001b[39m=\u001b[39m []\n\u001b[0;32m---> <a href='vscode-notebook-cell://ssh-remote%2Bavanesov.c.googlers.com/usr/local/google/home/avanesov/orbit/comparison/test.ipynb#ch0000002vscode-remote?line=13'>14</a>\u001b[0m \u001b[39mfor\u001b[39;00m i \u001b[39min\u001b[39;00m \u001b[39mrange\u001b[39m(frametrack_csv\u001b[39m.\u001b[39mshape[\u001b[39m0\u001b[39m]):\n\u001b[1;32m     <a href='vscode-notebook-cell://ssh-remote%2Bavanesov.c.googlers.com/usr/local/google/home/avanesov/orbit/comparison/test.ipynb#ch0000002vscode-remote?line=14'>15</a>\u001b[0m   durations \u001b[39m+\u001b[39m\u001b[39m=\u001b[39m [\u001b[39m1\u001b[39m \u001b[39m-\u001b[39m get_running_durations(frametrack_csv[i, \u001b[39m2\u001b[39m], frametrack_csv[i, \u001b[39m3\u001b[39m], states)\u001b[39m/\u001b[39m frametrack_csv[i, \u001b[39m4\u001b[39m]]\n",
      "\u001b[0;31mNameError\u001b[0m: name 'frametrack_csv' is not defined"
     ]
    }
   ],
   "source": [
    "def intersection(start1, end1, start2, end2):\n",
    "  if start2 > end1 or start1 > end2:\n",
    "    return 0\n",
    "  return min(end1, end2) - max(start1, start2)\n",
    "\n",
    "def get_running_durations(start, end, states):\n",
    "  result = 0\n",
    "  for row in states:\n",
    "    result += intersection(start, end, row[0], row[1])\n",
    "  return result\n",
    "\n",
    "\n",
    "durations = []\n",
    "for i in range(frametrack_csv.shape[0]):\n",
    "  durations += [1 - get_running_durations(frametrack_csv[i, 2], frametrack_csv[i, 3], states)/ frametrack_csv[i, 4]]"
   ]
  },
  {
   "cell_type": "code",
   "execution_count": 31,
   "metadata": {},
   "outputs": [
    {
     "data": {
      "text/plain": [
       "288"
      ]
     },
     "execution_count": 31,
     "metadata": {},
     "output_type": "execute_result"
    }
   ],
   "source": [
    "len([d for d in durations if d > 0])"
   ]
  },
  {
   "cell_type": "code",
   "execution_count": 3,
   "metadata": {},
   "outputs": [],
   "source": [
    "def load_capture_with_frametrack(callstack_csv_path, frametrack_csv_path, max_frametime, thread_running_path=None):\n",
    "  frametrack_csv = pd.read_csv(frametrack_csv_path).to_numpy()\n",
    "  frametrack_csv = frametrack_csv[frametrack_csv[:, 3].argsort()] # sort by end\n",
    "  frame_durations = frametrack_csv[:, 4]\n",
    "  frame_mean = frame_durations.mean()\n",
    "  frame_ends = frametrack_csv[:, 3]\n",
    "  last_init_frame = np.max((frame_durations > max_frametime).nonzero())\n",
    "  init_end_time = frametrack_csv[last_init_frame, 3]\n",
    "\n",
    "  frame_ends = frame_ends[last_init_frame:]\n",
    "\n",
    "  if thread_running_path == None:\n",
    "    frame_durations = frame_durations[last_init_frame:]\n",
    "  else:\n",
    "    thread_states = pd.read_csv(thread_running_path)\n",
    "\n",
    "  frame_mean = frame_durations.mean()\n",
    "  frame_var = frame_durations.var() / frame_durations[last_init_frame:].shape[0]\n",
    "  \n",
    "  return Capture(pd.read_csv(callstack_csv_path).to_numpy(), frame_mean, frame_var, frame_ends, init_end_time)"
   ]
  },
  {
   "cell_type": "code",
   "execution_count": 4,
   "metadata": {},
   "outputs": [],
   "source": [
    "import json \n",
    "\n",
    "def load_cumbia_capture_with_results_json(callstack_csv_path, results_json_path):\n",
    "  results = json.load(open(results_json_path))\n",
    "  fps = results[\"outputs\"][1]['values']\n",
    "  fps = np.array(fps[1:])\n",
    "  times = np.array(results[\"outputs\"][1]['times'])\n",
    "  times.sort()\n",
    "  frame_mean = np.dot(np.diff(times), 1 / fps)/np.diff(times).sum()  * 1e9\n",
    "  init_end_ns_from_start = times[1] * 1e9\n",
    "  callstack_csv = pd.read_csv(callstack_csv_path).to_numpy()\n",
    "  start_orbit_time = callstack_csv[:, 1].min()\n",
    "  init_end_time = init_end_ns_from_start + start_orbit_time\n",
    "  \n",
    "  frame_ends = np.array([times.max() * 1e9 + start_orbit_time])\n",
    "  return Capture(callstack_csv, frame_mean, frame_ends, init_end_time)\n",
    "  "
   ]
  },
  {
   "cell_type": "code",
   "execution_count": 5,
   "metadata": {},
   "outputs": [],
   "source": [
    "# capture1 -- slow\n",
    "def test(capture1, rates1, capture2, rates2, name):\n",
    "  n1 = capture1.total_callstacks\n",
    "  n2 = capture2.total_callstacks\n",
    "  p1 = rates1[name] \n",
    "  p2 = rates2[name]  \n",
    "  f1 = capture1.avg_frame_time()\n",
    "  f2 = capture2.avg_frame_time()\n",
    "\n",
    "  stat = f1*p1 - f2*p2\n",
    "  var_p1 = p1 * (1 - p1) / n1 \n",
    "  var_p2 = p2 * (1 - p2) / n2\n",
    "  var_f1 = capture1.frame_var\n",
    "  var_f2 = capture2.frame_var \n",
    "\n",
    "  var1 = var_f1 * var_p1 + var_p1 * f1**2 + var_f1 * p1**2\n",
    "  var2 = var_f2 * var_p2 + var_p2 * f2**2 + var_f2 * p2**2\n",
    "\n",
    "  stat = stat / np.sqrt(var1 + var2)\n",
    "  p = scipy.stats.norm().cdf(stat)\n",
    "  if (np.isnan(p)): \n",
    "    return 1.0\n",
    "  return min(p, 1-p) * 2"
   ]
  },
  {
   "cell_type": "code",
   "execution_count": 8,
   "metadata": {},
   "outputs": [],
   "source": [
    "path = \"~/cumbia_callstack_thread4k1.csv\"\n",
    "callstack = pd.read_csv(path).to_numpy()"
   ]
  },
  {
   "cell_type": "code",
   "execution_count": 14,
   "metadata": {},
   "outputs": [],
   "source": [
    "diffs = np.diff(np.sort(callstack[:,1]))"
   ]
  },
  {
   "cell_type": "code",
   "execution_count": 32,
   "metadata": {},
   "outputs": [
    {
     "data": {
      "text/plain": [
       "(2, 391133)"
      ]
     },
     "execution_count": 32,
     "metadata": {},
     "output_type": "execute_result"
    }
   ],
   "source": [
    "import matplotlib.pyplot as plt\n",
    "# n, bins, patches = plt.hist(diffs, 100, facecolor='blue')\n",
    "# plt.show()\n",
    "np.sum(diffs < 30000) , len(diffs)"
   ]
  },
  {
   "cell_type": "code",
   "execution_count": 6,
   "metadata": {},
   "outputs": [
    {
     "ename": "ParserError",
     "evalue": "Error tokenizing data. C error: Calling read(nbytes) on source failed. Try engine='python'.",
     "output_type": "error",
     "traceback": [
      "\u001b[0;31m---------------------------------------------------------------------------\u001b[0m",
      "\u001b[0;31mParserError\u001b[0m                               Traceback (most recent call last)",
      "\u001b[1;32m/usr/local/google/home/avanesov/orbit/comparison/test.ipynb Cell 8'\u001b[0m in \u001b[0;36m<cell line: 3>\u001b[0;34m()\u001b[0m\n\u001b[1;32m      <a href='vscode-notebook-cell://ssh-remote%2Bavanesov.c.googlers.com/usr/local/google/home/avanesov/orbit/comparison/test.ipynb#ch0000007vscode-remote?line=0'>1</a>\u001b[0m \u001b[39m# capture1 = load_cumbia_capture_with_results_json(\"~/cumbia_vsync_callstack1_thread.csv\", '/usr/local/google/home/avanesov/result_vsync1.json')\u001b[39;00m\n\u001b[1;32m      <a href='vscode-notebook-cell://ssh-remote%2Bavanesov.c.googlers.com/usr/local/google/home/avanesov/orbit/comparison/test.ipynb#ch0000007vscode-remote?line=1'>2</a>\u001b[0m \u001b[39m# capture2 = load_cumbia_capture_with_results_json(\"~/cumbia_vsync_callstack2_thread.csv\", '/usr/local/google/home/avanesov/result_vsync2.json')\u001b[39;00m\n\u001b[0;32m----> <a href='vscode-notebook-cell://ssh-remote%2Bavanesov.c.googlers.com/usr/local/google/home/avanesov/orbit/comparison/test.ipynb#ch0000007vscode-remote?line=2'>3</a>\u001b[0m capture1 \u001b[39m=\u001b[39m load_capture_with_frametrack(\u001b[39m\"\u001b[39;49m\u001b[39m~/cumbia_callstack_thread4k1.csv\u001b[39;49m\u001b[39m\"\u001b[39;49m, \u001b[39m\"\u001b[39;49m\u001b[39m~/cumbia_frametrack4k1.csv\u001b[39;49m\u001b[39m\"\u001b[39;49m,  \u001b[39m85\u001b[39;49m\u001b[39m*\u001b[39;49m\u001b[39m1e6\u001b[39;49m)\n\u001b[1;32m      <a href='vscode-notebook-cell://ssh-remote%2Bavanesov.c.googlers.com/usr/local/google/home/avanesov/orbit/comparison/test.ipynb#ch0000007vscode-remote?line=3'>4</a>\u001b[0m capture2 \u001b[39m=\u001b[39m load_capture_with_frametrack(\u001b[39m\"\u001b[39m\u001b[39m~/cumbia_callstack_thread4k2.csv\u001b[39m\u001b[39m\"\u001b[39m, \u001b[39m\"\u001b[39m\u001b[39m~/cumbia_frametrack4k2.csv\u001b[39m\u001b[39m\"\u001b[39m,  \u001b[39m85\u001b[39m\u001b[39m*\u001b[39m\u001b[39m1e6\u001b[39m)\n\u001b[1;32m      <a href='vscode-notebook-cell://ssh-remote%2Bavanesov.c.googlers.com/usr/local/google/home/avanesov/orbit/comparison/test.ipynb#ch0000007vscode-remote?line=4'>5</a>\u001b[0m \u001b[39m# capture1 = load_capture_with_frametrack(\"~/cumbia_callstack7_thread.csv\", \"~/cumbia_frametrack7.csv\",  85*1e6)\u001b[39;00m\n\u001b[1;32m      <a href='vscode-notebook-cell://ssh-remote%2Bavanesov.c.googlers.com/usr/local/google/home/avanesov/orbit/comparison/test.ipynb#ch0000007vscode-remote?line=5'>6</a>\u001b[0m \u001b[39m# capture2 = load_capture_with_frametrack(\"~/cumbia_callstack6_thread.csv\", \"~/cumbia_frametrack6.csv\",  85*1e6)\u001b[39;00m\n",
      "\u001b[1;32m/usr/local/google/home/avanesov/orbit/comparison/test.ipynb Cell 5'\u001b[0m in \u001b[0;36mload_capture_with_frametrack\u001b[0;34m(callstack_csv_path, frametrack_csv_path, max_frametime, thread_running_path)\u001b[0m\n\u001b[1;32m     <a href='vscode-notebook-cell://ssh-remote%2Bavanesov.c.googlers.com/usr/local/google/home/avanesov/orbit/comparison/test.ipynb#ch0000004vscode-remote?line=16'>17</a>\u001b[0m frame_mean \u001b[39m=\u001b[39m frame_durations\u001b[39m.\u001b[39mmean()\n\u001b[1;32m     <a href='vscode-notebook-cell://ssh-remote%2Bavanesov.c.googlers.com/usr/local/google/home/avanesov/orbit/comparison/test.ipynb#ch0000004vscode-remote?line=17'>18</a>\u001b[0m frame_var \u001b[39m=\u001b[39m frame_durations\u001b[39m.\u001b[39mvar() \u001b[39m/\u001b[39m frame_durations[last_init_frame:]\u001b[39m.\u001b[39mshape[\u001b[39m0\u001b[39m]\n\u001b[0;32m---> <a href='vscode-notebook-cell://ssh-remote%2Bavanesov.c.googlers.com/usr/local/google/home/avanesov/orbit/comparison/test.ipynb#ch0000004vscode-remote?line=19'>20</a>\u001b[0m \u001b[39mreturn\u001b[39;00m Capture(pd\u001b[39m.\u001b[39;49mread_csv(callstack_csv_path)\u001b[39m.\u001b[39mto_numpy(), frame_mean, frame_var, frame_ends, init_end_time)\n",
      "File \u001b[0;32m~/.local/lib/python3.9/site-packages/pandas/util/_decorators.py:311\u001b[0m, in \u001b[0;36mdeprecate_nonkeyword_arguments.<locals>.decorate.<locals>.wrapper\u001b[0;34m(*args, **kwargs)\u001b[0m\n\u001b[1;32m    <a href='file:///usr/local/google/home/avanesov/.local/lib/python3.9/site-packages/pandas/util/_decorators.py?line=304'>305</a>\u001b[0m \u001b[39mif\u001b[39;00m \u001b[39mlen\u001b[39m(args) \u001b[39m>\u001b[39m num_allow_args:\n\u001b[1;32m    <a href='file:///usr/local/google/home/avanesov/.local/lib/python3.9/site-packages/pandas/util/_decorators.py?line=305'>306</a>\u001b[0m     warnings\u001b[39m.\u001b[39mwarn(\n\u001b[1;32m    <a href='file:///usr/local/google/home/avanesov/.local/lib/python3.9/site-packages/pandas/util/_decorators.py?line=306'>307</a>\u001b[0m         msg\u001b[39m.\u001b[39mformat(arguments\u001b[39m=\u001b[39marguments),\n\u001b[1;32m    <a href='file:///usr/local/google/home/avanesov/.local/lib/python3.9/site-packages/pandas/util/_decorators.py?line=307'>308</a>\u001b[0m         \u001b[39mFutureWarning\u001b[39;00m,\n\u001b[1;32m    <a href='file:///usr/local/google/home/avanesov/.local/lib/python3.9/site-packages/pandas/util/_decorators.py?line=308'>309</a>\u001b[0m         stacklevel\u001b[39m=\u001b[39mstacklevel,\n\u001b[1;32m    <a href='file:///usr/local/google/home/avanesov/.local/lib/python3.9/site-packages/pandas/util/_decorators.py?line=309'>310</a>\u001b[0m     )\n\u001b[0;32m--> <a href='file:///usr/local/google/home/avanesov/.local/lib/python3.9/site-packages/pandas/util/_decorators.py?line=310'>311</a>\u001b[0m \u001b[39mreturn\u001b[39;00m func(\u001b[39m*\u001b[39;49margs, \u001b[39m*\u001b[39;49m\u001b[39m*\u001b[39;49mkwargs)\n",
      "File \u001b[0;32m~/.local/lib/python3.9/site-packages/pandas/io/parsers/readers.py:680\u001b[0m, in \u001b[0;36mread_csv\u001b[0;34m(filepath_or_buffer, sep, delimiter, header, names, index_col, usecols, squeeze, prefix, mangle_dupe_cols, dtype, engine, converters, true_values, false_values, skipinitialspace, skiprows, skipfooter, nrows, na_values, keep_default_na, na_filter, verbose, skip_blank_lines, parse_dates, infer_datetime_format, keep_date_col, date_parser, dayfirst, cache_dates, iterator, chunksize, compression, thousands, decimal, lineterminator, quotechar, quoting, doublequote, escapechar, comment, encoding, encoding_errors, dialect, error_bad_lines, warn_bad_lines, on_bad_lines, delim_whitespace, low_memory, memory_map, float_precision, storage_options)\u001b[0m\n\u001b[1;32m    <a href='file:///usr/local/google/home/avanesov/.local/lib/python3.9/site-packages/pandas/io/parsers/readers.py?line=664'>665</a>\u001b[0m kwds_defaults \u001b[39m=\u001b[39m _refine_defaults_read(\n\u001b[1;32m    <a href='file:///usr/local/google/home/avanesov/.local/lib/python3.9/site-packages/pandas/io/parsers/readers.py?line=665'>666</a>\u001b[0m     dialect,\n\u001b[1;32m    <a href='file:///usr/local/google/home/avanesov/.local/lib/python3.9/site-packages/pandas/io/parsers/readers.py?line=666'>667</a>\u001b[0m     delimiter,\n\u001b[0;32m   (...)\u001b[0m\n\u001b[1;32m    <a href='file:///usr/local/google/home/avanesov/.local/lib/python3.9/site-packages/pandas/io/parsers/readers.py?line=675'>676</a>\u001b[0m     defaults\u001b[39m=\u001b[39m{\u001b[39m\"\u001b[39m\u001b[39mdelimiter\u001b[39m\u001b[39m\"\u001b[39m: \u001b[39m\"\u001b[39m\u001b[39m,\u001b[39m\u001b[39m\"\u001b[39m},\n\u001b[1;32m    <a href='file:///usr/local/google/home/avanesov/.local/lib/python3.9/site-packages/pandas/io/parsers/readers.py?line=676'>677</a>\u001b[0m )\n\u001b[1;32m    <a href='file:///usr/local/google/home/avanesov/.local/lib/python3.9/site-packages/pandas/io/parsers/readers.py?line=677'>678</a>\u001b[0m kwds\u001b[39m.\u001b[39mupdate(kwds_defaults)\n\u001b[0;32m--> <a href='file:///usr/local/google/home/avanesov/.local/lib/python3.9/site-packages/pandas/io/parsers/readers.py?line=679'>680</a>\u001b[0m \u001b[39mreturn\u001b[39;00m _read(filepath_or_buffer, kwds)\n",
      "File \u001b[0;32m~/.local/lib/python3.9/site-packages/pandas/io/parsers/readers.py:581\u001b[0m, in \u001b[0;36m_read\u001b[0;34m(filepath_or_buffer, kwds)\u001b[0m\n\u001b[1;32m    <a href='file:///usr/local/google/home/avanesov/.local/lib/python3.9/site-packages/pandas/io/parsers/readers.py?line=577'>578</a>\u001b[0m     \u001b[39mreturn\u001b[39;00m parser\n\u001b[1;32m    <a href='file:///usr/local/google/home/avanesov/.local/lib/python3.9/site-packages/pandas/io/parsers/readers.py?line=579'>580</a>\u001b[0m \u001b[39mwith\u001b[39;00m parser:\n\u001b[0;32m--> <a href='file:///usr/local/google/home/avanesov/.local/lib/python3.9/site-packages/pandas/io/parsers/readers.py?line=580'>581</a>\u001b[0m     \u001b[39mreturn\u001b[39;00m parser\u001b[39m.\u001b[39;49mread(nrows)\n",
      "File \u001b[0;32m~/.local/lib/python3.9/site-packages/pandas/io/parsers/readers.py:1250\u001b[0m, in \u001b[0;36mTextFileReader.read\u001b[0;34m(self, nrows)\u001b[0m\n\u001b[1;32m   <a href='file:///usr/local/google/home/avanesov/.local/lib/python3.9/site-packages/pandas/io/parsers/readers.py?line=1247'>1248</a>\u001b[0m nrows \u001b[39m=\u001b[39m validate_integer(\u001b[39m\"\u001b[39m\u001b[39mnrows\u001b[39m\u001b[39m\"\u001b[39m, nrows)\n\u001b[1;32m   <a href='file:///usr/local/google/home/avanesov/.local/lib/python3.9/site-packages/pandas/io/parsers/readers.py?line=1248'>1249</a>\u001b[0m \u001b[39mtry\u001b[39;00m:\n\u001b[0;32m-> <a href='file:///usr/local/google/home/avanesov/.local/lib/python3.9/site-packages/pandas/io/parsers/readers.py?line=1249'>1250</a>\u001b[0m     index, columns, col_dict \u001b[39m=\u001b[39m \u001b[39mself\u001b[39;49m\u001b[39m.\u001b[39;49m_engine\u001b[39m.\u001b[39;49mread(nrows)\n\u001b[1;32m   <a href='file:///usr/local/google/home/avanesov/.local/lib/python3.9/site-packages/pandas/io/parsers/readers.py?line=1250'>1251</a>\u001b[0m \u001b[39mexcept\u001b[39;00m \u001b[39mException\u001b[39;00m:\n\u001b[1;32m   <a href='file:///usr/local/google/home/avanesov/.local/lib/python3.9/site-packages/pandas/io/parsers/readers.py?line=1251'>1252</a>\u001b[0m     \u001b[39mself\u001b[39m\u001b[39m.\u001b[39mclose()\n",
      "File \u001b[0;32m~/.local/lib/python3.9/site-packages/pandas/io/parsers/c_parser_wrapper.py:225\u001b[0m, in \u001b[0;36mCParserWrapper.read\u001b[0;34m(self, nrows)\u001b[0m\n\u001b[1;32m    <a href='file:///usr/local/google/home/avanesov/.local/lib/python3.9/site-packages/pandas/io/parsers/c_parser_wrapper.py?line=222'>223</a>\u001b[0m \u001b[39mtry\u001b[39;00m:\n\u001b[1;32m    <a href='file:///usr/local/google/home/avanesov/.local/lib/python3.9/site-packages/pandas/io/parsers/c_parser_wrapper.py?line=223'>224</a>\u001b[0m     \u001b[39mif\u001b[39;00m \u001b[39mself\u001b[39m\u001b[39m.\u001b[39mlow_memory:\n\u001b[0;32m--> <a href='file:///usr/local/google/home/avanesov/.local/lib/python3.9/site-packages/pandas/io/parsers/c_parser_wrapper.py?line=224'>225</a>\u001b[0m         chunks \u001b[39m=\u001b[39m \u001b[39mself\u001b[39;49m\u001b[39m.\u001b[39;49m_reader\u001b[39m.\u001b[39;49mread_low_memory(nrows)\n\u001b[1;32m    <a href='file:///usr/local/google/home/avanesov/.local/lib/python3.9/site-packages/pandas/io/parsers/c_parser_wrapper.py?line=225'>226</a>\u001b[0m         \u001b[39m# destructive to chunks\u001b[39;00m\n\u001b[1;32m    <a href='file:///usr/local/google/home/avanesov/.local/lib/python3.9/site-packages/pandas/io/parsers/c_parser_wrapper.py?line=226'>227</a>\u001b[0m         data \u001b[39m=\u001b[39m _concatenate_chunks(chunks)\n",
      "File \u001b[0;32m~/.local/lib/python3.9/site-packages/pandas/_libs/parsers.pyx:805\u001b[0m, in \u001b[0;36mpandas._libs.parsers.TextReader.read_low_memory\u001b[0;34m()\u001b[0m\n",
      "File \u001b[0;32m~/.local/lib/python3.9/site-packages/pandas/_libs/parsers.pyx:861\u001b[0m, in \u001b[0;36mpandas._libs.parsers.TextReader._read_rows\u001b[0;34m()\u001b[0m\n",
      "File \u001b[0;32m~/.local/lib/python3.9/site-packages/pandas/_libs/parsers.pyx:847\u001b[0m, in \u001b[0;36mpandas._libs.parsers.TextReader._tokenize_rows\u001b[0;34m()\u001b[0m\n",
      "File \u001b[0;32m~/.local/lib/python3.9/site-packages/pandas/_libs/parsers.pyx:1960\u001b[0m, in \u001b[0;36mpandas._libs.parsers.raise_parser_error\u001b[0;34m()\u001b[0m\n",
      "\u001b[0;31mParserError\u001b[0m: Error tokenizing data. C error: Calling read(nbytes) on source failed. Try engine='python'."
     ]
    }
   ],
   "source": [
    "# capture1 = load_cumbia_capture_with_results_json(\"~/cumbia_vsync_callstack1_thread.csv\", '/usr/local/google/home/avanesov/result_vsync1.json')\n",
    "# capture2 = load_cumbia_capture_with_results_json(\"~/cumbia_vsync_callstack2_thread.csv\", '/usr/local/google/home/avanesov/result_vsync2.json')\n",
    "capture1 = load_capture_with_frametrack(\"~/cumbia_callstack_thread4k1.csv\", \"~/cumbia_frametrack4k1.csv\",  85*1e6)\n",
    "capture2 = load_capture_with_frametrack(\"~/cumbia_callstack_thread4k2.csv\", \"~/cumbia_frametrack4k2.csv\",  85*1e6)\n",
    "# capture1 = load_capture_with_frametrack(\"~/cumbia_callstack7_thread.csv\", \"~/cumbia_frametrack7.csv\",  85*1e6)\n",
    "# capture2 = load_capture_with_frametrack(\"~/cumbia_callstack6_thread.csv\", \"~/cumbia_frametrack6.csv\",  85*1e6)\n",
    "\n",
    "\n",
    "names1 = capture1.function_names()\n",
    "names2 = capture2.function_names()\n",
    "names = set(names1).intersection(set(names2))\n",
    "names.remove(\"???\")\n",
    "capture1.filter_functions(names)\n",
    "capture2.filter_functions(names)"
   ]
  },
  {
   "cell_type": "code",
   "execution_count": 60,
   "metadata": {},
   "outputs": [
    {
     "data": {
      "text/plain": [
       "(65741459.12401353, 65700346.80270575)"
      ]
     },
     "execution_count": 60,
     "metadata": {},
     "output_type": "execute_result"
    }
   ],
   "source": [
    "capture1.frame_mean, capture2.frame_mean"
   ]
  },
  {
   "cell_type": "code",
   "execution_count": 59,
   "metadata": {},
   "outputs": [
    {
     "name": "stderr",
     "output_type": "stream",
     "text": [
      "/tmp/ipykernel_3636859/2705725131.py:19: RuntimeWarning: invalid value encountered in double_scalars\n",
      "  stat = stat / np.sqrt(var1 + var2)\n",
      "/usr/local/google/home/avanesov/.local/lib/python3.9/site-packages/statsmodels/stats/multitest.py:177: RuntimeWarning: divide by zero encountered in log1p\n",
      "  np.log1p(-pvals))\n"
     ]
    }
   ],
   "source": [
    "rate1 = capture1.get_exclusive_rate()\n",
    "rate2 = capture2.get_exclusive_rate() \n",
    "pvalues = [(name, test(capture1, rate1, capture2, rate2, name)) for name in names]\n",
    "reject, corrected,_,_ = multipletests([pvalue for name, pvalue in pvalues])\n",
    "\n",
    "namesnp = np.array([name for name, pvalue in pvalues])\n",
    "rejected_names = namesnp[np.array(reject)]\n"
   ]
  },
  {
   "cell_type": "code",
   "execution_count": 61,
   "metadata": {},
   "outputs": [
    {
     "data": {
      "text/plain": [
       "array([], dtype=float64)"
      ]
     },
     "execution_count": 61,
     "metadata": {},
     "output_type": "execute_result"
    }
   ],
   "source": [
    "corrected[corrected < 0.05]"
   ]
  },
  {
   "cell_type": "code",
   "execution_count": 62,
   "metadata": {},
   "outputs": [
    {
     "data": {
      "text/plain": [
       "(0, 1327)"
      ]
     },
     "execution_count": 62,
     "metadata": {},
     "output_type": "execute_result"
    }
   ],
   "source": [
    "len(rejected_names), len(names)"
   ]
  },
  {
   "cell_type": "code",
   "execution_count": null,
   "metadata": {},
   "outputs": [],
   "source": [
    "[(name, rate1[name])  for name in rejected_names]"
   ]
  },
  {
   "cell_type": "code",
   "execution_count": 27,
   "metadata": {},
   "outputs": [],
   "source": [
    "pvalues.sort(key = lambda x : x[1]) \n"
   ]
  },
  {
   "cell_type": "code",
   "execution_count": 45,
   "metadata": {},
   "outputs": [
    {
     "name": "stdout",
     "output_type": "stream",
     "text": [
      "1.1885236966089256e-11 7.1309209212431e-11 0.10429592994193262 0.04582583268481589 65.74145912401353 27.542569230732862\n"
     ]
    },
    {
     "data": {
      "text/plain": [
       "0.2908352704186795"
      ]
     },
     "execution_count": 45,
     "metadata": {},
     "output_type": "execute_result"
    }
   ],
   "source": [
    "name = list(names)[10]\n",
    "test(capture1, rate1, capture2, rate2, name)"
   ]
  },
  {
   "cell_type": "code",
   "execution_count": null,
   "metadata": {},
   "outputs": [],
   "source": [
    "pvalues"
   ]
  },
  {
   "cell_type": "code",
   "execution_count": null,
   "metadata": {},
   "outputs": [],
   "source": [
    "problem_name= pvalues[0][0]\n",
    "rate1[problem_name], rate2[problem_name]"
   ]
  },
  {
   "cell_type": "code",
   "execution_count": null,
   "metadata": {},
   "outputs": [],
   "source": [
    "test(capture1, rate1, capture2, rate2, problem_name)"
   ]
  },
  {
   "cell_type": "code",
   "execution_count": null,
   "metadata": {},
   "outputs": [],
   "source": [
    "len(set(rejected_names).intersection(names_with_high_overhead))"
   ]
  },
  {
   "cell_type": "code",
   "execution_count": null,
   "metadata": {},
   "outputs": [],
   "source": [
    "names_with_high_overhead"
   ]
  },
  {
   "cell_type": "code",
   "execution_count": null,
   "metadata": {},
   "outputs": [],
   "source": [
    "def overhead_per_function(capture1, capture2):\n",
    "  avg_frame_time1 = capture1.avg_frame_time()\n",
    "  avg_frame_time2 = capture2.avg_frame_time()\n",
    "\n",
    "  time_per_frame1 = capture1.time_per_frame()\n",
    "  time_per_frame2 = capture2.time_per_frame()\n",
    "\n",
    "  result = []\n",
    "  for name in names:\n",
    "    time1 = time_per_frame1[name]\n",
    "    time2 = time_per_frame2[name]\n",
    "    result.append((name, (time1 - time2) / (avg_frame_time1 - avg_frame_time2)))\n",
    "  return result\n",
    "\n",
    "overheads = overhead_per_function(capture1, capture2)\n",
    "overheads.sort(key = lambda x: -x[1])\n",
    "overheads_dict = dict(overheads)\n",
    "names_with_high_overhead = [name for name in names if overheads_dict[name] > 0.01]"
   ]
  },
  {
   "cell_type": "code",
   "execution_count": 20,
   "metadata": {},
   "outputs": [],
   "source": [
    "frametrack1_path = '~/cumbia_frametrack8.csv'\n",
    "frametrack2_path = '~/cumbia_frametrack9.csv'\n",
    "frametrack1 = pd.read_csv(frametrack1_path).to_numpy()[:, 4]\n",
    "frametrack2 = pd.read_csv(frametrack2_path).to_numpy()[:, 4]"
   ]
  },
  {
   "cell_type": "code",
   "execution_count": 21,
   "metadata": {},
   "outputs": [
    {
     "data": {
      "text/plain": [
       "array([2353792, 311437, 763061, ..., 14007796, 14562252, 914249],\n",
       "      dtype=object)"
      ]
     },
     "execution_count": 21,
     "metadata": {},
     "output_type": "execute_result"
    }
   ],
   "source": [
    "frametrack1"
   ]
  },
  {
   "cell_type": "code",
   "execution_count": 22,
   "metadata": {},
   "outputs": [],
   "source": [
    "import scipy\n",
    "from scipy.stats import ttest_ind"
   ]
  },
  {
   "cell_type": "code",
   "execution_count": 23,
   "metadata": {},
   "outputs": [
    {
     "data": {
      "text/plain": [
       "Ttest_indResult(statistic=0.625311070682517, pvalue=0.531799155167028)"
      ]
     },
     "execution_count": 23,
     "metadata": {},
     "output_type": "execute_result"
    }
   ],
   "source": [
    "ttest_ind(frametrack1, frametrack2, equal_var=False)"
   ]
  },
  {
   "cell_type": "code",
   "execution_count": 24,
   "metadata": {},
   "outputs": [
    {
     "data": {
      "text/plain": [
       "(26442199.976902176, 26235668.44)"
      ]
     },
     "execution_count": 24,
     "metadata": {},
     "output_type": "execute_result"
    }
   ],
   "source": [
    "frametrack1.mean(), frametrack2.mean()"
   ]
  },
  {
   "cell_type": "code",
   "execution_count": null,
   "metadata": {},
   "outputs": [],
   "source": []
  }
 ],
 "metadata": {
  "interpreter": {
   "hash": "916dbcbb3f70747c44a77c7bcd40155683ae19c65e1c03b4aa3499c5328201f1"
  },
  "kernelspec": {
   "display_name": "Python 3.9.10 64-bit",
   "language": "python",
   "name": "python3"
  },
  "language_info": {
   "codemirror_mode": {
    "name": "ipython",
    "version": 3
   },
   "file_extension": ".py",
   "mimetype": "text/x-python",
   "name": "python",
   "nbconvert_exporter": "python",
   "pygments_lexer": "ipython3",
   "version": "3.9.10"
  },
  "orig_nbformat": 4
 },
 "nbformat": 4,
 "nbformat_minor": 2
}
