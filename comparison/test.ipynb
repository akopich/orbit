{
 "cells": [
  {
   "cell_type": "code",
   "execution_count": 2,
   "metadata": {},
   "outputs": [],
   "source": [
    "import collections\n",
    "import functools\n",
    "# Read the file and open the capture by creating an OrbitCapture instance.\n",
    "# from orbitutils.orbit_capture import OrbitCapture\n",
    "import pandas as pd\n",
    "\n",
    "callstack_csv = pd.read_csv(\"~/cumbia_callstack.csv\").to_numpy()\n",
    "frametrack_csv = pd.read_csv(\"~/cumbia_frametrack.csv\").to_numpy()\n",
    "\n",
    "callstack_csv = callstack_csv[callstack_csv[:, 1].argsort()]"
   ]
  },
  {
   "cell_type": "code",
   "execution_count": 3,
   "metadata": {},
   "outputs": [],
   "source": [
    "import numpy as np\n",
    "\n",
    "def callstacks(callstack_csv, frametrack_csv):\n",
    "  frame_index_to_callstacks = {}\n",
    "  frame_index = 0\n",
    "  frame_ends = frametrack_csv[:, 3]\n",
    "  frame_end =frame_ends[frame_index]\n",
    "  frame_index_to_callstacks[frame_index] = []\n",
    "  callstack_names = [s.split('/') for s in  callstack_csv[:, 2]]\n",
    "  timestamps = callstack_csv[:, 1]\n",
    "  for i in range(callstack_csv.shape[0]):\n",
    "    timestamp = timestamps[i]\n",
    "\n",
    "    while timestamp > frame_end:\n",
    "      if frame_index + 1 == frametrack_csv.shape[0]: \n",
    "        return frame_index_to_callstacks\n",
    "      frame_index += 1\n",
    "      frame_end = frame_ends[frame_index]\n",
    "      frame_index_to_callstacks[frame_index] = [] \n",
    "    frame_index_to_callstacks[frame_index].append(callstack_names[i])\n",
    "  return frame_index_to_callstacks"
   ]
  },
  {
   "cell_type": "code",
   "execution_count": 4,
   "metadata": {},
   "outputs": [],
   "source": [
    "frame_index_to_callstacks = callstacks(callstack_csv, frametrack_csv)"
   ]
  },
  {
   "cell_type": "code",
   "execution_count": 5,
   "metadata": {},
   "outputs": [],
   "source": [
    "frame_durations = frametrack_csv[:, 4]"
   ]
  },
  {
   "cell_type": "code",
   "execution_count": 15,
   "metadata": {},
   "outputs": [],
   "source": [
    "def get_exclusive_count(function_name, callstacks):\n",
    "  exclusive_count = 0;\n",
    "  for callstack in callstacks:\n",
    "      if (len(callstack) > 0 and callstack[0] == function_name):\n",
    "        exclusive_count += 1\n",
    "  return exclusive_count"
   ]
  },
  {
   "cell_type": "code",
   "execution_count": 58,
   "metadata": {},
   "outputs": [],
   "source": [
    "def time_per_frame(frame_index_to_callstack, frame_durations):\n",
    "  name_to_hits = {}\n",
    "  for callstacks in frame_index_to_callstacks.values():\n",
    "    for callstack in callstacks:\n",
    "      head = callstack[0]\n",
    "      name_to_hits.setdefault(head, 0)\n",
    "      name_to_hits[head] += 1\n",
    "  total_callstacks = sum(len(s) for s in frame_index_to_callstacks.values())\n",
    "  mean_frame_time = frame_durations.mean()\n",
    "  return dict([(name, (mean_frame_time *hits/total_callstacks/1e6)) for name, hits in name_to_hits.items()])"
   ]
  },
  {
   "cell_type": "code",
   "execution_count": 59,
   "metadata": {},
   "outputs": [],
   "source": [
    "name2time = time_per_frame(frame_index_to_callstacks, frame_durations)"
   ]
  },
  {
   "cell_type": "code",
   "execution_count": 30,
   "metadata": {},
   "outputs": [],
   "source": [
    "def time_per_frame2(function_name, frame_index_to_callstack, frame_durations):\n",
    "  total_time = 0\n",
    "  for frame_index, callstacks in frame_index_to_callstack.items():\n",
    "    rate = get_exclusive_count(function_name, callstacks) / len(callstacks)\n",
    "    total_time += frame_durations[frame_index] * rate\n",
    "  return total_time/1e6/frame_durations.size"
   ]
  },
  {
   "cell_type": "code",
   "execution_count": 38,
   "metadata": {},
   "outputs": [],
   "source": [
    "def get_all_names(frame_index_to_callstack):\n",
    "  result = []\n",
    "  for callstacks in frame_index_to_callstacks.values():\n",
    "    for callstack in callstacks:\n",
    "      result += callstack\n",
    "  return np.unique(result)"
   ]
  },
  {
   "cell_type": "code",
   "execution_count": 36,
   "metadata": {},
   "outputs": [],
   "source": [
    "names = get_all_names(frame_index_to_callstacks)"
   ]
  },
  {
   "cell_type": "code",
   "execution_count": 47,
   "metadata": {},
   "outputs": [],
   "source": [
    "def compare_time_per_frame(function_name, frame_index_to_callstacks, frame_durations):\n",
    "  t1 = time_per_frame(function_name, frame_index_to_callstacks, frame_durations)\n",
    "  t2 = time_per_frame2(function_name, frame_index_to_callstacks, frame_durations)\n",
    "  print(abs(t1-t2) / t2)\n",
    "  return abs(t1-t2) / t2"
   ]
  },
  {
   "cell_type": "code",
   "execution_count": 48,
   "metadata": {},
   "outputs": [
    {
     "name": "stdout",
     "output_type": "stream",
     "text": [
      "0.011926312004410135\n",
      "0.001351467089160045\n",
      "0.011260006658262331\n",
      "0.0028185071512641826\n",
      "0.005321967074776933\n",
      "0.01791814892155093\n",
      "0.02475608889309781\n",
      "0.010222595911278363\n"
     ]
    },
    {
     "name": "stderr",
     "output_type": "stream",
     "text": [
      "/tmp/ipykernel_1983293/2054096210.py:4: RuntimeWarning: invalid value encountered in double_scalars\n",
      "  print(abs(t1-t2) / t2)\n",
      "/tmp/ipykernel_1983293/2054096210.py:5: RuntimeWarning: invalid value encountered in double_scalars\n",
      "  return abs(t1-t2) / t2\n"
     ]
    },
    {
     "name": "stdout",
     "output_type": "stream",
     "text": [
      "nan\n",
      "0.026099173824547985\n",
      "0.006723154666484884\n",
      "0.021482533902768962\n",
      "0.0021636518691299867\n",
      "0.015046811131485635\n",
      "nan\n",
      "0.001743126608292873\n",
      "0.009698545480839062\n",
      "0.002285004372601309\n",
      "0.006696507182651216\n",
      "0.0005536716120434846\n",
      "0.014805820047624447\n",
      "0.04483663642916222\n",
      "0.0020701963961517545\n",
      "0.004382374799078062\n",
      "0.013960914416225326\n",
      "0.001533360306751266\n",
      "0.04266880406079179\n",
      "0.01047232153979111\n",
      "0.003010983355350477\n",
      "0.0054716980446879\n",
      "nan\n",
      "0.012483680989999857\n",
      "0.0013751939511647846\n",
      "0.03390748179050543\n",
      "0.015016825304434623\n",
      "0.04499235221301583\n",
      "0.022909934191231513\n",
      "0.0015255114339190114\n",
      "0.041109049273096256\n",
      "0.03863121668968187\n",
      "0.00014449210448605146\n",
      "0.0967988696916765\n",
      "nan\n",
      "0.0122195703344928\n",
      "0.03140276510112005\n",
      "0.01007113869756157\n",
      "0.0030859775101162554\n",
      "0.030571002417397446\n",
      "0.062327656920985366\n",
      "nan\n",
      "0.016676739694375557\n",
      "0.0021216868791627324\n",
      "0.0065180881644860715\n",
      "0.006113372124426773\n",
      "0.004233556724149805\n",
      "0.0049796529127078765\n",
      "0.044410734304753514\n",
      "0.055506279976484864\n",
      "0.014084610418473972\n",
      "0.02233693551483016\n",
      "0.027314295413507397\n",
      "0.018536570758933942\n",
      "0.03516476206841554\n",
      "0.1072900533244138\n",
      "0.004734428891889391\n",
      "0.0688568829869532\n",
      "0.01548612298239459\n",
      "0.015028260982046364\n",
      "0.031134137216703963\n",
      "0.0038401707560623876\n",
      "0.17434266350128275\n",
      "0.01865384950848604\n",
      "0.008957128498215712\n",
      "0.002225761488606311\n",
      "nan\n",
      "0.04668400362294628\n",
      "0.02685059888138344\n",
      "0.049695570950501214\n",
      "nan\n",
      "nan\n",
      "0.012094410224933105\n",
      "0.020625644783035375\n",
      "0.00964944249246182\n",
      "nan\n",
      "nan\n",
      "0.11451450231799194\n",
      "0.0035804380992706703\n",
      "0.028950689267266\n",
      "0.010597613458703475\n",
      "0.07493833189546172\n",
      "0.007914437122630088\n",
      "0.005736897474136773\n",
      "0.008564768275094291\n",
      "0.07480938989457997\n",
      "0.004946204565605786\n",
      "0.01830443040712272\n",
      "nan\n",
      "0.001771197290956127\n",
      "0.019514569993308195\n",
      "0.001175949726200361\n",
      "0.007362223705824999\n",
      "0.030861521141070308\n",
      "nan\n",
      "0.0012480305553422303\n",
      "0.013492310236595499\n",
      "0.025823387152246944\n",
      "0.005007347289961443\n",
      "0.02590003321907515\n",
      "0.001106931942755063\n",
      "0.03298560428070259\n",
      "0.0008469979488083522\n",
      "0.013930258549148302\n",
      "0.005870559601358023\n",
      "0.03201741726730538\n",
      "0.07497130763448295\n",
      "0.06869776855090781\n",
      "0.01948087672247871\n",
      "0.036508589955126916\n",
      "0.032133468303105955\n",
      "nan\n",
      "0.010177478689026614\n",
      "0.015580390851986686\n",
      "0.00029069907973333636\n",
      "nan\n",
      "0.009143811734226182\n",
      "0.016412182764923136\n",
      "nan\n",
      "0.18842345240821812\n",
      "nan\n",
      "0.04499235221301583\n",
      "0.04800361584989387\n",
      "0.06606366701776435\n",
      "0.003687618080556942\n",
      "0.04496164594127355\n",
      "0.040466142022881645\n",
      "0.02192368367972298\n",
      "0.005704359139849673\n",
      "0.0035910196529628114\n",
      "0.001785100217438774\n",
      "nan\n",
      "nan\n",
      "0.01237473169952499\n",
      "0.07021503176294784\n",
      "0.009905393657850366\n",
      "0.0006787816508498858\n",
      "0.00434739295834001\n",
      "0.027217748637702665\n",
      "0.029803602765837663\n",
      "nan\n",
      "nan\n",
      "0.02268069178705018\n",
      "nan\n",
      "0.04841936316132059\n",
      "0.007495147844098185\n",
      "0.028090486386105822\n"
     ]
    },
    {
     "ename": "KeyboardInterrupt",
     "evalue": "",
     "output_type": "error",
     "traceback": [
      "\u001b[0;31m---------------------------------------------------------------------------\u001b[0m",
      "\u001b[0;31mKeyboardInterrupt\u001b[0m                         Traceback (most recent call last)",
      "\u001b[1;32m/usr/local/google/home/avanesov/orbit/comparison/test.ipynb Cell 13'\u001b[0m in \u001b[0;36m<cell line: 1>\u001b[0;34m()\u001b[0m\n\u001b[0;32m----> <a href='vscode-notebook-cell://ssh-remote%2Bavanesov.c.googlers.com/usr/local/google/home/avanesov/orbit/comparison/test.ipynb#ch0000032vscode-remote?line=0'>1</a>\u001b[0m \u001b[39mmax\u001b[39;49m(\u001b[39mmap\u001b[39;49m(\u001b[39mlambda\u001b[39;49;00m x : compare_time_per_frame(x,frame_index_to_callstacks, frame_durations ), names))\n",
      "\u001b[1;32m/usr/local/google/home/avanesov/orbit/comparison/test.ipynb Cell 13'\u001b[0m in \u001b[0;36m<lambda>\u001b[0;34m(x)\u001b[0m\n\u001b[0;32m----> <a href='vscode-notebook-cell://ssh-remote%2Bavanesov.c.googlers.com/usr/local/google/home/avanesov/orbit/comparison/test.ipynb#ch0000032vscode-remote?line=0'>1</a>\u001b[0m \u001b[39mmax\u001b[39m(\u001b[39mmap\u001b[39m(\u001b[39mlambda\u001b[39;00m x : compare_time_per_frame(x,frame_index_to_callstacks, frame_durations ), names))\n",
      "\u001b[1;32m/usr/local/google/home/avanesov/orbit/comparison/test.ipynb Cell 12'\u001b[0m in \u001b[0;36mcompare_time_per_frame\u001b[0;34m(function_name, frame_index_to_callstacks, frame_durations)\u001b[0m\n\u001b[1;32m      <a href='vscode-notebook-cell://ssh-remote%2Bavanesov.c.googlers.com/usr/local/google/home/avanesov/orbit/comparison/test.ipynb#ch0000031vscode-remote?line=0'>1</a>\u001b[0m \u001b[39mdef\u001b[39;00m \u001b[39mcompare_time_per_frame\u001b[39m(function_name, frame_index_to_callstacks, frame_durations):\n\u001b[1;32m      <a href='vscode-notebook-cell://ssh-remote%2Bavanesov.c.googlers.com/usr/local/google/home/avanesov/orbit/comparison/test.ipynb#ch0000031vscode-remote?line=1'>2</a>\u001b[0m   t1 \u001b[39m=\u001b[39m time_per_frame(function_name, frame_index_to_callstacks, frame_durations)\n\u001b[0;32m----> <a href='vscode-notebook-cell://ssh-remote%2Bavanesov.c.googlers.com/usr/local/google/home/avanesov/orbit/comparison/test.ipynb#ch0000031vscode-remote?line=2'>3</a>\u001b[0m   t2 \u001b[39m=\u001b[39m time_per_frame2(function_name, frame_index_to_callstacks, frame_durations)\n\u001b[1;32m      <a href='vscode-notebook-cell://ssh-remote%2Bavanesov.c.googlers.com/usr/local/google/home/avanesov/orbit/comparison/test.ipynb#ch0000031vscode-remote?line=3'>4</a>\u001b[0m   \u001b[39mprint\u001b[39m(\u001b[39mabs\u001b[39m(t1\u001b[39m-\u001b[39mt2) \u001b[39m/\u001b[39m t2)\n\u001b[1;32m      <a href='vscode-notebook-cell://ssh-remote%2Bavanesov.c.googlers.com/usr/local/google/home/avanesov/orbit/comparison/test.ipynb#ch0000031vscode-remote?line=4'>5</a>\u001b[0m   \u001b[39mreturn\u001b[39;00m \u001b[39mabs\u001b[39m(t1\u001b[39m-\u001b[39mt2) \u001b[39m/\u001b[39m t2\n",
      "\u001b[1;32m/usr/local/google/home/avanesov/orbit/comparison/test.ipynb Cell 8'\u001b[0m in \u001b[0;36mtime_per_frame2\u001b[0;34m(function_name, frame_index_to_callstack, frame_durations)\u001b[0m\n\u001b[1;32m      <a href='vscode-notebook-cell://ssh-remote%2Bavanesov.c.googlers.com/usr/local/google/home/avanesov/orbit/comparison/test.ipynb#ch0000025vscode-remote?line=1'>2</a>\u001b[0m total_time \u001b[39m=\u001b[39m \u001b[39m0\u001b[39m\n\u001b[1;32m      <a href='vscode-notebook-cell://ssh-remote%2Bavanesov.c.googlers.com/usr/local/google/home/avanesov/orbit/comparison/test.ipynb#ch0000025vscode-remote?line=2'>3</a>\u001b[0m \u001b[39mfor\u001b[39;00m frame_index, callstacks \u001b[39min\u001b[39;00m frame_index_to_callstack\u001b[39m.\u001b[39mitems():\n\u001b[0;32m----> <a href='vscode-notebook-cell://ssh-remote%2Bavanesov.c.googlers.com/usr/local/google/home/avanesov/orbit/comparison/test.ipynb#ch0000025vscode-remote?line=3'>4</a>\u001b[0m   rate \u001b[39m=\u001b[39m get_exclusive_count(function_name, callstacks) \u001b[39m/\u001b[39m \u001b[39mlen\u001b[39m(callstacks)\n\u001b[1;32m      <a href='vscode-notebook-cell://ssh-remote%2Bavanesov.c.googlers.com/usr/local/google/home/avanesov/orbit/comparison/test.ipynb#ch0000025vscode-remote?line=4'>5</a>\u001b[0m   total_time \u001b[39m+\u001b[39m\u001b[39m=\u001b[39m frame_durations[frame_index] \u001b[39m*\u001b[39m rate\n\u001b[1;32m      <a href='vscode-notebook-cell://ssh-remote%2Bavanesov.c.googlers.com/usr/local/google/home/avanesov/orbit/comparison/test.ipynb#ch0000025vscode-remote?line=5'>6</a>\u001b[0m \u001b[39mreturn\u001b[39;00m total_time\u001b[39m/\u001b[39m\u001b[39m1e6\u001b[39m\u001b[39m/\u001b[39mframe_durations\u001b[39m.\u001b[39msize\n",
      "\u001b[1;32m/usr/local/google/home/avanesov/orbit/comparison/test.ipynb Cell 5'\u001b[0m in \u001b[0;36mget_exclusive_count\u001b[0;34m(function_name, callstacks)\u001b[0m\n\u001b[1;32m      <a href='vscode-notebook-cell://ssh-remote%2Bavanesov.c.googlers.com/usr/local/google/home/avanesov/orbit/comparison/test.ipynb#ch0000026vscode-remote?line=1'>2</a>\u001b[0m exclusive_count \u001b[39m=\u001b[39m \u001b[39m0\u001b[39m;\n\u001b[1;32m      <a href='vscode-notebook-cell://ssh-remote%2Bavanesov.c.googlers.com/usr/local/google/home/avanesov/orbit/comparison/test.ipynb#ch0000026vscode-remote?line=2'>3</a>\u001b[0m \u001b[39mfor\u001b[39;00m callstack \u001b[39min\u001b[39;00m callstacks:\n\u001b[0;32m----> <a href='vscode-notebook-cell://ssh-remote%2Bavanesov.c.googlers.com/usr/local/google/home/avanesov/orbit/comparison/test.ipynb#ch0000026vscode-remote?line=3'>4</a>\u001b[0m     \u001b[39mif\u001b[39;00m (\u001b[39mlen\u001b[39m(callstack) \u001b[39m>\u001b[39m \u001b[39m0\u001b[39m \u001b[39mand\u001b[39;00m callstack[\u001b[39m0\u001b[39;49m] \u001b[39m==\u001b[39m function_name):\n\u001b[1;32m      <a href='vscode-notebook-cell://ssh-remote%2Bavanesov.c.googlers.com/usr/local/google/home/avanesov/orbit/comparison/test.ipynb#ch0000026vscode-remote?line=4'>5</a>\u001b[0m       exclusive_count \u001b[39m+\u001b[39m\u001b[39m=\u001b[39m \u001b[39m1\u001b[39m\n\u001b[1;32m      <a href='vscode-notebook-cell://ssh-remote%2Bavanesov.c.googlers.com/usr/local/google/home/avanesov/orbit/comparison/test.ipynb#ch0000026vscode-remote?line=5'>6</a>\u001b[0m \u001b[39mreturn\u001b[39;00m exclusive_count\n",
      "\u001b[0;31mKeyboardInterrupt\u001b[0m: "
     ]
    }
   ],
   "source": [
    "max(map(lambda x : compare_time_per_frame(x,frame_index_to_callstacks, frame_durations ), names))"
   ]
  },
  {
   "cell_type": "code",
   "execution_count": 46,
   "metadata": {},
   "outputs": [
    {
     "data": {
      "text/plain": [
       "2705"
      ]
     },
     "execution_count": 46,
     "metadata": {},
     "output_type": "execute_result"
    }
   ],
   "source": [
    "len(names)"
   ]
  },
  {
   "cell_type": "code",
   "execution_count": 60,
   "metadata": {},
   "outputs": [
    {
     "data": {
      "text/plain": [
       "0.8460718705759032"
      ]
     },
     "execution_count": 60,
     "metadata": {},
     "output_type": "execute_result"
    }
   ],
   "source": [
    "name2time[\"eva::math::dot(eva::math::vector<float, 4ul> const&, eva::math::vector<float, 4ul> const&)\"]"
   ]
  },
  {
   "cell_type": "code",
   "execution_count": null,
   "metadata": {},
   "outputs": [],
   "source": []
  }
 ],
 "metadata": {
  "interpreter": {
   "hash": "916dbcbb3f70747c44a77c7bcd40155683ae19c65e1c03b4aa3499c5328201f1"
  },
  "kernelspec": {
   "display_name": "Python 3.9.10 64-bit",
   "language": "python",
   "name": "python3"
  },
  "language_info": {
   "codemirror_mode": {
    "name": "ipython",
    "version": 3
   },
   "file_extension": ".py",
   "mimetype": "text/x-python",
   "name": "python",
   "nbconvert_exporter": "python",
   "pygments_lexer": "ipython3",
   "version": "3.9.10"
  },
  "orig_nbformat": 4
 },
 "nbformat": 4,
 "nbformat_minor": 2
}
