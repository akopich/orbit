{
 "cells": [
  {
   "cell_type": "markdown",
   "metadata": {},
   "source": [
    "<!---\n",
    "Copyright (c) 2020 The Orbit Authors. All rights reserved. \n",
    "Use of this source code is governed by a BSD-style license that can be \n",
    "found in the LICENSE file.\n",
    "-->\n",
    "\n",
    "# Example Jupyter notebook for analyzing Orbit capture data\n",
    "\n",
    "This is a brief example notebook that shows how Jupyter notebooks can be used to load Orbit capture data. This is only for testing setup. If you can run the cells in this notebook successfully, the setup should be complete."
   ]
  },
  {
   "cell_type": "code",
   "execution_count": 1,
   "id": "dying-first",
   "metadata": {},
   "outputs": [
    {
     "ename": "ModuleNotFoundError",
     "evalue": "No module named 'orbitutils.capture_pb2'",
     "output_type": "error",
     "traceback": [
      "\u001b[0;31m---------------------------------------------------------------------------\u001b[0m",
      "\u001b[0;31mModuleNotFoundError\u001b[0m                       Traceback (most recent call last)",
      "\u001b[1;32m/usr/local/google/home/avanesov/orbit/contrib/jupyter/orbit_example_notebook.ipynb Cell 2'\u001b[0m in \u001b[0;36m<cell line: 4>\u001b[0;34m()\u001b[0m\n\u001b[1;32m      <a href='vscode-notebook-cell://ssh-remote%2Bavanesov.c.googlers.com/usr/local/google/home/avanesov/orbit/contrib/jupyter/orbit_example_notebook.ipynb#ch0000001vscode-remote?line=1'>2</a>\u001b[0m \u001b[39mimport\u001b[39;00m \u001b[39mfunctools\u001b[39;00m\n\u001b[1;32m      <a href='vscode-notebook-cell://ssh-remote%2Bavanesov.c.googlers.com/usr/local/google/home/avanesov/orbit/contrib/jupyter/orbit_example_notebook.ipynb#ch0000001vscode-remote?line=2'>3</a>\u001b[0m \u001b[39m# Read the file and open the capture by creating an OrbitCapture instance.\u001b[39;00m\n\u001b[0;32m----> <a href='vscode-notebook-cell://ssh-remote%2Bavanesov.c.googlers.com/usr/local/google/home/avanesov/orbit/contrib/jupyter/orbit_example_notebook.ipynb#ch0000001vscode-remote?line=3'>4</a>\u001b[0m \u001b[39mfrom\u001b[39;00m \u001b[39morbitutils\u001b[39;00m\u001b[39m.\u001b[39;00m\u001b[39morbit_capture\u001b[39;00m \u001b[39mimport\u001b[39;00m OrbitCapture\n\u001b[1;32m      <a href='vscode-notebook-cell://ssh-remote%2Bavanesov.c.googlers.com/usr/local/google/home/avanesov/orbit/contrib/jupyter/orbit_example_notebook.ipynb#ch0000001vscode-remote?line=5'>6</a>\u001b[0m file_content \u001b[39m=\u001b[39m \u001b[39mopen\u001b[39m(\u001b[39m\"\u001b[39m\u001b[39m./orbitutils/testdata/OrbitTest_capture.orbit\u001b[39m\u001b[39m\"\u001b[39m, \u001b[39m\"\u001b[39m\u001b[39mrb\u001b[39m\u001b[39m\"\u001b[39m)\u001b[39m.\u001b[39mread()\n\u001b[1;32m      <a href='vscode-notebook-cell://ssh-remote%2Bavanesov.c.googlers.com/usr/local/google/home/avanesov/orbit/contrib/jupyter/orbit_example_notebook.ipynb#ch0000001vscode-remote?line=6'>7</a>\u001b[0m capture \u001b[39m=\u001b[39m OrbitCapture(file_content)\n",
      "File \u001b[0;32m~/orbit/contrib/jupyter/orbitutils/orbit_capture.py:12\u001b[0m, in \u001b[0;36m<module>\u001b[0;34m\u001b[0m\n\u001b[1;32m      <a href='file:///usr/local/google/home/avanesov/orbit/contrib/jupyter/orbitutils/orbit_capture.py?line=8'>9</a>\u001b[0m \u001b[39mimport\u001b[39;00m \u001b[39msys\u001b[39;00m\n\u001b[1;32m     <a href='file:///usr/local/google/home/avanesov/orbit/contrib/jupyter/orbitutils/orbit_capture.py?line=9'>10</a>\u001b[0m sys\u001b[39m.\u001b[39mpath\u001b[39m.\u001b[39mappend(\u001b[39m\"\u001b[39m\u001b[39m./orbitutils\u001b[39m\u001b[39m\"\u001b[39m)\n\u001b[0;32m---> <a href='file:///usr/local/google/home/avanesov/orbit/contrib/jupyter/orbitutils/orbit_capture.py?line=11'>12</a>\u001b[0m \u001b[39mimport\u001b[39;00m \u001b[39morbitutils\u001b[39;00m\u001b[39m.\u001b[39;00m\u001b[39mcapture_pb2\u001b[39;00m \u001b[39mas\u001b[39;00m \u001b[39mproto\u001b[39;00m\n\u001b[1;32m     <a href='file:///usr/local/google/home/avanesov/orbit/contrib/jupyter/orbitutils/orbit_capture.py?line=12'>13</a>\u001b[0m \u001b[39mimport\u001b[39;00m \u001b[39mstruct\u001b[39;00m\n\u001b[1;32m     <a href='file:///usr/local/google/home/avanesov/orbit/contrib/jupyter/orbitutils/orbit_capture.py?line=13'>14</a>\u001b[0m \u001b[39mfrom\u001b[39;00m \u001b[39mgoogle\u001b[39;00m\u001b[39m.\u001b[39;00m\u001b[39mprotobuf\u001b[39;00m\u001b[39m.\u001b[39;00m\u001b[39minternal\u001b[39;00m\u001b[39m.\u001b[39;00m\u001b[39mdecoder\u001b[39;00m \u001b[39mimport\u001b[39;00m _DecodeVarint32\n",
      "\u001b[0;31mModuleNotFoundError\u001b[0m: No module named 'orbitutils.capture_pb2'"
     ]
    }
   ],
   "source": [
    "import collections\n",
    "import functools\n",
    "# Read the file and open the capture by creating an OrbitCapture instance.\n",
    "from orbitutils.orbit_capture import OrbitCapture\n",
    "\n",
    "file_content = open(\"./orbitutils/testdata/OrbitTest_capture.orbit\", \"rb\").read()\n",
    "capture = OrbitCapture(file_content)\n",
    "\n",
    "print(\"Capture successfully opened and read!\")\n",
    "\n",
    "start_event = capture.events[0]\n",
    "print(\"Capture start time: \" + str(start_event.capture_started.capture_start_timestamp_ns) + \"ns\")\n",
    "\n",
    "print(\"Capture events: \" + str(len(capture.events)))"
   ]
  },
  {
   "cell_type": "code",
   "execution_count": null,
   "id": "4a19b6aa",
   "metadata": {},
   "outputs": [],
   "source": []
  }
 ],
 "metadata": {
  "interpreter": {
   "hash": "7e1399e3f8c0abf7ee1a87c8418367545cb407dfff54ddf4a9f1c1c57b52988e"
  },
  "kernelspec": {
   "display_name": "Python 3.9.0 64-bit",
   "name": "python3"
  },
  "language_info": {
   "codemirror_mode": {
    "name": "ipython",
    "version": 3
   },
   "file_extension": ".py",
   "mimetype": "text/x-python",
   "name": "python",
   "nbconvert_exporter": "python",
   "pygments_lexer": "ipython3",
   "version": "3.9.10"
  }
 },
 "nbformat": 4,
 "nbformat_minor": 5
}
